{
 "cells": [
  {
   "cell_type": "markdown",
   "metadata": {},
   "source": [
    "# Simulate an NMR spectrum from a `struqture` Hamiltonian\n",
    "\n",
    "In this tutorial, we want to give you some ideas of how to work with an NMR Hamiltonian in `struqture` format. To this end we are first going to discuss how to interface directly one of the NMR solvers included in HQS Spectrum Tools and obtain a spectrum this way. Then, we will continue with clustering the Hamiltonian, as done in the `calculate_spectrum` method to give you a starting point if you want to try out your own approximation schemes.\n",
    "\n",
    "Let's start as usual by importing all modules we are going to need:"
   ]
  },
  {
   "cell_type": "code",
   "execution_count": 1,
   "metadata": {},
   "outputs": [
    {
     "name": "stderr",
     "output_type": "stream",
     "text": [
      "# License check turned off.\n",
      "/home/jkleinebuening/micromamba/envs/hqs-nmr/lib/python3.13/site-packages/hqs_nmr/solver/implementations/complete_solver.py:15: PerformanceWarning: Computation uses more threads than physical cores. Consider setting the OMP_NUM_THREADS environment variable to the number of physical cores: `export OMP_NUM_THREADS=12`.\n",
      "  from hqs_quantum_solver.spins import (\n"
     ]
    }
   ],
   "source": [
    "# NMR\n",
    "from hqs_nmr_parameters import nmr_hamiltonian\n",
    "from hqs_nmr_parameters.examples import molecules\n",
    "\n",
    "from hqs_nmr.hamiltonian_tools import cluster_molecule\n",
    "from hqs_nmr.datatypes import NMRSolverSettings, NMRCalculationParameters\n",
    "from hqs_nmr import conversion\n",
    "from hqs_nmr.utils import lorentzian_broadening_from_fwhm\n",
    "from hqs_nmr.solver import NMR_FREQUENCY_SOLVERS\n",
    "\n",
    "# External modules\n",
    "import numpy as np\n",
    "import matplotlib.pyplot as plt\n",
    "\n",
    "# Can be installed via HQStage and gives the plots a nice layout. This is an optional dependency.\n",
    "import HQStyle\n",
    "HQStyle.import_all()"
   ]
  },
  {
   "cell_type": "markdown",
   "metadata": {},
   "source": [
    "## Extracting the spin Hamiltonian\n",
    "\n",
    "We first need an NMR Hamiltonian in `struqture` format. For this we will use an example molecule provided by `hqs-nmr-parameters`:"
   ]
  },
  {
   "cell_type": "code",
   "execution_count": 2,
   "metadata": {},
   "outputs": [],
   "source": [
    "molecule_parameters = molecules[\"C10H7Br\"].spin_system()"
   ]
  },
  {
   "cell_type": "markdown",
   "metadata": {},
   "source": [
    "To extract the Hamiltonian in a `struqture` format, we first have to define the magnetic field in Tesla and then create a `NMRCalculationParameters` object with it:"
   ]
  },
  {
   "cell_type": "code",
   "execution_count": 3,
   "metadata": {},
   "outputs": [],
   "source": [
    "calculation_parameters = NMRCalculationParameters(field_T=11.7433)"
   ]
  },
  {
   "cell_type": "markdown",
   "metadata": {},
   "source": [
    "The object stores the reference isotope (by default <sup>1</sup>H), which is going to be needed to construct the Hamiltonian in a rotating frame of reference. With these variables at hand we can obtain the `struqture` Hamiltonian via a simple function call:"
   ]
  },
  {
   "cell_type": "code",
   "execution_count": 4,
   "metadata": {},
   "outputs": [
    {
     "name": "stdout",
     "output_type": "stream",
     "text": [
      "PauliHamiltonian{\n",
      "0Z: -1.2412432385206223e4,\n",
      "1Z: -1.1711857234477997e4,\n",
      "2Z: -1.1912919161081314e4,\n",
      "3Z: -1.1928627124071121e4,\n",
      "4Z: -1.1581481141328812e4,\n",
      "5Z: -1.1605043085813522e4,\n",
      "6Z: -1.2065286402463913e4,\n",
      "0X1X: 3.0630528372500483e0,\n",
      "0Y1Y: 3.0630528372500483e0,\n",
      "0Z1Z: 3.0630528372500483e0,\n",
      "0X2X: 6.283185307179586e-1,\n",
      "0Y2Y: 6.283185307179586e-1,\n",
      "0Z2Z: 6.283185307179586e-1,\n",
      "1X2X: 1.36659280431156e1,\n",
      "1Y2Y: 1.36659280431156e1,\n",
      "1Z2Z: 1.36659280431156e1,\n",
      "3X4X: 1.2252211349000193e1,\n",
      "3Y4Y: 1.2252211349000193e1,\n",
      "3Z4Z: 1.2252211349000193e1,\n",
      "3X5X: 2.2776546738526e0,\n",
      "3Y5Y: 2.2776546738526e0,\n",
      "3Z5Z: 2.2776546738526e0,\n",
      "3X6X: 1.5707963267948966e-1,\n",
      "3Y6Y: 1.5707963267948966e-1,\n",
      "3Z6Z: 1.5707963267948966e-1,\n",
      "4X5X: 1.0524335389525808e1,\n",
      "4Y5Y: 1.0524335389525808e1,\n",
      "4Z5Z: 1.0524335389525808e1,\n",
      "4X6X: 2.199114857512855e0,\n",
      "4Y6Y: 2.199114857512855e0,\n",
      "4Z6Z: 2.199114857512855e0,\n",
      "5X6X: 1.288052987971815e1,\n",
      "5Y6Y: 1.288052987971815e1,\n",
      "5Z6Z: 1.288052987971815e1,\n",
      "}\n"
     ]
    }
   ],
   "source": [
    "struqture_hamiltonian = nmr_hamiltonian(\n",
    "    parameters=molecule_parameters,\n",
    "    field=calculation_parameters.field_T,\n",
    "    reference_isotope=calculation_parameters.reference_isotope,\n",
    ")\n",
    "print(struqture_hamiltonian)"
   ]
  },
  {
   "cell_type": "markdown",
   "metadata": {},
   "source": [
    "## Calculating the spectrum\n",
    "\n",
    "Now that we have obtained the Hamiltonian, we can discuss how to obtain the spectrum directly from it. First, we have to find the frequency interval of interest. Since the Hamiltonian is in a rotating frame, this can easily be done, by simply considering the shifts, as they are dominating the position of the spectral peaks. We will use the largest and smallest shift with an additional buffer of 0.3 ppm as the bounds of the window. As the Hamiltonian is in units of rad per second, we will also convert the frequency values accordingly:"
   ]
  },
  {
   "cell_type": "code",
   "execution_count": 5,
   "metadata": {},
   "outputs": [],
   "source": [
    "upper_bound = max(molecule_parameters.shifts) + 0.3\n",
    "lower_bound = min(molecule_parameters.shifts) - 0.3\n",
    "\n",
    "num_omegas = 20000\n",
    "omegas_ppm = np.linspace(lower_bound, upper_bound, num_omegas)\n",
    "omegas = conversion.ppm_to_rad_per_s(omegas_ppm, calculation_parameters)"
   ]
  },
  {
   "cell_type": "markdown",
   "metadata": {},
   "source": [
    "We also need to define a broadening $\\eta$. If you want to avoid thinking about the factor of 2 that converts the full-width-half-maximum (fwhm) observed on the final peaks into a Lorentzian broadening, you can use a helper function from the `utils` module. We will define a fwhm of 1 Hz and again have to convert it to rad per s. Note that we define a vector for the broadening. This is because you can give each spin contribution its own broadening value, approximating different levels of noise experienced by each spin."
   ]
  },
  {
   "cell_type": "code",
   "execution_count": 6,
   "metadata": {},
   "outputs": [],
   "source": [
    "fwhm = conversion.Hz_to_rad_per_s(1.0)\n",
    "num_spins = len(molecule_parameters.shifts)\n",
    "eta = lorentzian_broadening_from_fwhm(fwhm) * np.ones(num_spins)"
   ]
  },
  {
   "cell_type": "markdown",
   "metadata": {},
   "source": [
    "Next we need to choose a solver. We can print the available solvers as follows: "
   ]
  },
  {
   "cell_type": "code",
   "execution_count": 7,
   "metadata": {},
   "outputs": [
    {
     "name": "stdout",
     "output_type": "stream",
     "text": [
      "['nmr_solver', 'nmr_solver_local_su2', 'reference_nmr_solver', 'complete_nmr_solver']\n"
     ]
    }
   ],
   "source": [
    "print(list(NMR_FREQUENCY_SOLVERS.keys()))"
   ]
  },
  {
   "cell_type": "markdown",
   "metadata": {},
   "source": [
    "Here you find a brief explanation about the differences of the available solver options:\n",
    "\n",
    "- `nmr_solver`: Exploits $I^z$ conservation, but does not take care of local SU(2) symmetry.\n",
    "- `nmr_solver_local_su2`: Takes into account also the local SU(2) symmetry. Can be slower compared to `nmr_solver` for small molecules but will typically be faster for larger ones.\n",
    "- `reference_nmr_solver`: Takes no symmetries into account.\n",
    "- `complete_nmr_solver`: Evaluates the time-dependent expectation value without an approximation for the initial density matrix. No symmetries are taken into account.\n",
    "\n",
    "Here we will use the `nmr_solver`:"
   ]
  },
  {
   "cell_type": "code",
   "execution_count": 8,
   "metadata": {},
   "outputs": [],
   "source": [
    "solver = NMR_FREQUENCY_SOLVERS[\"nmr_solver\"]"
   ]
  },
  {
   "cell_type": "markdown",
   "metadata": {},
   "source": [
    "With this we can almost solve for the NMR spectrum, however the solver still needs some additional input. We need to define a list with the indices for which the spectrum should be calculated. This will be important for the clustering, but for now, we can simply give it a list with the indices of all spins in the Hamiltonian. It also needs information on the normed gyromagnetic ratios (so the gyromagnetic ratios of each isotope divided by that of the reference isotope). This is only important in case there is more than one active isotope type in the molecule. Since the only active isotope type in the chosen molecule is <sup>1</sup>H, we can therefore define it as a vector of ones.  "
   ]
  },
  {
   "cell_type": "code",
   "execution_count": 9,
   "metadata": {},
   "outputs": [],
   "source": [
    "spin_contributions = list(range(num_spins))\n",
    "normalized_gyromagnetic_ratios = np.ones(num_spins)"
   ]
  },
  {
   "cell_type": "markdown",
   "metadata": {},
   "source": [
    "Finally, we can calculate the spectrum. As in the case of the `calculate_spectrum` method, here we are going to obtain the individual spin contributions rather than the summed up intensities:"
   ]
  },
  {
   "cell_type": "code",
   "execution_count": 10,
   "metadata": {},
   "outputs": [],
   "source": [
    "spin_contributions = solver(\n",
    "    struqture_hamiltonian,\n",
    "    normalized_gyromagnetic_ratios=normalized_gyromagnetic_ratios,\n",
    "    omegas=omegas,\n",
    "    eta=eta,\n",
    "    spin_contribution_indices=spin_contributions,\n",
    "    calculation_parameters=calculation_parameters,\n",
    ")"
   ]
  },
  {
   "cell_type": "markdown",
   "metadata": {},
   "source": [
    "With this we can sum up the spin contributions and obtain the full spectral intensities:"
   ]
  },
  {
   "cell_type": "code",
   "execution_count": 11,
   "metadata": {},
   "outputs": [
    {
     "data": {
      "image/png": "[encoded data removed]",
      "text/plain": [
       "<Figure size 1260x944.8 with 1 Axes>"
      ]
     },
     "metadata": {},
     "output_type": "display_data"
    }
   ],
   "source": [
    "intensities = np.sum(spin_contributions, axis=0)\n",
    "\n",
    "plt.plot(omegas_ppm, intensities)\n",
    "plt.xlabel(\"$\\\\delta$ [ppm]\")\n",
    "plt.ylabel(\"Intensity [arb. units]\")\n",
    "\n",
    "# Invert the frequency axis as is standard in NMR spectroscopy.\n",
    "plt.gca().invert_xaxis()\n",
    "\n",
    "plt.show()"
   ]
  },
  {
   "cell_type": "markdown",
   "metadata": {},
   "source": [
    "## Clustering\n",
    "\n",
    "Now that we know how we can obtain a spectrum, let us discuss our clustering approach as a possible approximation scheme. Note that the NMR solvers in HQS Spectrum Tools can only evaluate the spectra of pure NMR Hamiltonians, so Hamiltonians of the form:\n",
    "\n",
    "$$\n",
    "\\begin{align}\n",
    "\\hat{H} = -\\sum_l \\gamma_l \\left( 1 + \\delta_l \\right) B^z  \\hat{I}^z_l + 2 \\pi\\sum_{k < l} J_{kl}  \\mathbf{\\hat I}_k \\cdot \\mathbf{\\hat I}_l \\, ,\n",
    "\\end{align}\n",
    "$$\n",
    "\n",
    "where $\\gamma_l$ is the gyromagnetic factor and  $\\delta_l$ the chemical shift of nuclear spin $l$.\n",
    "$J_{kl}$ denotes the coupling between spins $k$ and $l$ and $\\hat{I}^\\alpha=\\hat{S}^\\alpha / \\hbar$ where the $\\hat{S}^\\alpha$ are the usual SU(2) spin operators with $\\alpha \\in \\{x, y, z\\}$.\n",
    "\n",
    "Our [spin-dependent clustering approach](https://docs.cloud.quantumsimulations.de/hqs-spectrum-tools/subfolder/background/solver.html) achieves this, by identifying for each spin only the terms in the Hamiltonian related to the spins most strongly coupled to it. One then has to solve for the spin contribution of each spin separately and combine the individual spin contributions in the end. This can conveniently be achieved using the `cluster_molecule` function. Since the molecule we chose only has seven spins, we are going to put the `maximum_cluster_size` to 4 using a `NMRSolverSettings` object:"
   ]
  },
  {
   "cell_type": "code",
   "execution_count": 12,
   "metadata": {},
   "outputs": [
    {
     "name": "stdout",
     "output_type": "stream",
     "text": [
      "Number of identified clusters:  2\n"
     ]
    }
   ],
   "source": [
    "solver_settings = NMRSolverSettings(max_cluster_size=4)\n",
    "cluster_dict_list = cluster_molecule(\n",
    "    molecule_parameters,\n",
    "    calculation_parameters.gyromagnetic_ratios,\n",
    "    calculation_parameters.field_T,\n",
    "    solver_settings,\n",
    "    calculation_parameters.reference_isotope,\n",
    ")\n",
    "print(\"Number of identified clusters: \", len(cluster_dict_list))"
   ]
  },
  {
   "cell_type": "markdown",
   "metadata": {},
   "source": [
    "The function returns a list of dictionaries, where each dictionary contains information on one cluster. In this case, two clusters where identified. If you go through the Hamiltonian output above, you will notice, that there are no J-coupling entries between the spins with indices {0, 1, 2} and those with indices {3, 4, 5, 6}. Therefore we would expect these sets of indices to be identified as individual clusters. To check this let us take a look at the two dictionaries:\n"
   ]
  },
  {
   "cell_type": "code",
   "execution_count": 13,
   "metadata": {},
   "outputs": [
    {
     "data": {
      "text/plain": [
       "{'spin_contribution_indices_in_molecule': [0, 1, 2],\n",
       " 'spin_contribution_indices_in_cluster': [0, 1, 2],\n",
       " 'cluster_indices': [0, 1, 2],\n",
       " 'nmr_parameters': NMRParameters(isotopes=[Isotope(mass_number=1, symbol='H'), Isotope(mass_number=1, symbol='H'), Isotope(mass_number=1, symbol='H')], shifts=[7.902, 7.456, 7.584], j_couplings=[((0, 1), 1.95), ((0, 2), 0.4), ((1, 2), 8.7)]),\n",
       " 'use_local_su2': False}"
      ]
     },
     "execution_count": 13,
     "metadata": {},
     "output_type": "execute_result"
    }
   ],
   "source": [
    "cluster_dict_list[0]"
   ]
  },
  {
   "cell_type": "code",
   "execution_count": 14,
   "metadata": {},
   "outputs": [
    {
     "data": {
      "text/plain": [
       "{'spin_contribution_indices_in_molecule': [3, 4, 5, 6],\n",
       " 'spin_contribution_indices_in_cluster': [0, 1, 2, 3],\n",
       " 'cluster_indices': [3, 4, 5, 6],\n",
       " 'nmr_parameters': NMRParameters(isotopes=[Isotope(mass_number=1, symbol='H'), Isotope(mass_number=1, symbol='H'), Isotope(mass_number=1, symbol='H'), Isotope(mass_number=1, symbol='H')], shifts=[7.594, 7.373, 7.388, 7.681], j_couplings=[((0, 1), 7.8), ((0, 2), 1.45), ((0, 3), 0.1), ((1, 2), 6.7), ((1, 3), 1.4), ((2, 3), 8.2)]),\n",
       " 'use_local_su2': False}"
      ]
     },
     "execution_count": 14,
     "metadata": {},
     "output_type": "execute_result"
    }
   ],
   "source": [
    "cluster_dict_list[1]"
   ]
  },
  {
   "cell_type": "markdown",
   "metadata": {},
   "source": [
    "As we can see, the entry `cluster_indices` for both elements of the list contain the expected indices, so the method worked as anticipated. Now let's discuss the other elements in detail:\n",
    "\n",
    "Since our custering approach is spin-dependent, each cluster has associated **spin contributions**. These basically describe the spin indices, for which to evaluate the contribution to the spectral function using this cluster. Since we are identifying clusters for each spin individually, you will often find only one element in the list of spin contributions. However, if multiple spins are associated with the same cluster (as in our case) they will be grouped together. Furthermore, we distinguish between the `spin_contribution_indices_in_molecule`, which are the indices of the spins in the original Hamiltonian and `spin_contribution_indices_in_cluster`, which are the indices in the cluster Hamiltonian. The entry `use_local_su2` tells you, whether it is beneficial to exploit local SU(2) symmetry when solving a given cluster. Finally, if you want to obtain the `struqture` Hamiltonian just for one cluster you can do so using the `nmr_parameters` entry:"
   ]
  },
  {
   "cell_type": "code",
   "execution_count": 15,
   "metadata": {},
   "outputs": [
    {
     "name": "stdout",
     "output_type": "stream",
     "text": [
      "PauliHamiltonian{\n",
      "0Z: -1.2412432385206223e4,\n",
      "1Z: -1.1711857234477997e4,\n",
      "2Z: -1.1912919161081314e4,\n",
      "0X1X: 3.0630528372500483e0,\n",
      "0Y1Y: 3.0630528372500483e0,\n",
      "0Z1Z: 3.0630528372500483e0,\n",
      "0X2X: 6.283185307179586e-1,\n",
      "0Y2Y: 6.283185307179586e-1,\n",
      "0Z2Z: 6.283185307179586e-1,\n",
      "1X2X: 1.36659280431156e1,\n",
      "1Y2Y: 1.36659280431156e1,\n",
      "1Z2Z: 1.36659280431156e1,\n",
      "}\n"
     ]
    }
   ],
   "source": [
    "cluster_0_parms = cluster_dict_list[0][\"nmr_parameters\"]\n",
    "struqture_cluster_0_hamiltonian = nmr_hamiltonian(\n",
    "    parameters=cluster_0_parms,\n",
    "    field=calculation_parameters.field_T,\n",
    "    reference_isotope=calculation_parameters.reference_isotope,\n",
    ")\n",
    "print(struqture_cluster_0_hamiltonian)"
   ]
  },
  {
   "cell_type": "code",
   "execution_count": 16,
   "metadata": {},
   "outputs": [
    {
     "name": "stdout",
     "output_type": "stream",
     "text": [
      "PauliHamiltonian{\n",
      "0Z: -1.1928627124071121e4,\n",
      "1Z: -1.1581481141328812e4,\n",
      "2Z: -1.1605043085813522e4,\n",
      "3Z: -1.2065286402463913e4,\n",
      "0X1X: 1.2252211349000193e1,\n",
      "0Y1Y: 1.2252211349000193e1,\n",
      "0Z1Z: 1.2252211349000193e1,\n",
      "0X2X: 2.2776546738526e0,\n",
      "0Y2Y: 2.2776546738526e0,\n",
      "0Z2Z: 2.2776546738526e0,\n",
      "0X3X: 1.5707963267948966e-1,\n",
      "0Y3Y: 1.5707963267948966e-1,\n",
      "0Z3Z: 1.5707963267948966e-1,\n",
      "1X2X: 1.0524335389525808e1,\n",
      "1Y2Y: 1.0524335389525808e1,\n",
      "1Z2Z: 1.0524335389525808e1,\n",
      "1X3X: 2.199114857512855e0,\n",
      "1Y3Y: 2.199114857512855e0,\n",
      "1Z3Z: 2.199114857512855e0,\n",
      "2X3X: 1.288052987971815e1,\n",
      "2Y3Y: 1.288052987971815e1,\n",
      "2Z3Z: 1.288052987971815e1,\n",
      "}\n"
     ]
    }
   ],
   "source": [
    "cluster_1_parms = cluster_dict_list[1][\"nmr_parameters\"]\n",
    "struqture_cluster_1_hamiltonian = nmr_hamiltonian(\n",
    "    parameters=cluster_1_parms,\n",
    "    field=calculation_parameters.field_T,\n",
    "    reference_isotope=calculation_parameters.reference_isotope,\n",
    ")\n",
    "print(struqture_cluster_1_hamiltonian)"
   ]
  },
  {
   "cell_type": "markdown",
   "metadata": {},
   "source": [
    "Now you know how to obtain the spectrum for any NMR Hamiltonian in `struqture` format and you know how to extract cluster Hamiltonians from given molecular parameters. Therefore, you have all the information needed to code up your own spin-dependent cluster solver. We leave this as an exercise to the reader as it is a good starting point to get familiar with the functions provided by **HQS Spectrum Tools**. If you want to try it, take care of the distinction between the indices in the molecule and the indices in the cluster mentioned above.\n",
    " "
   ]
  }
 ],
 "metadata": {
  "kernelspec": {
   "display_name": "hqs-nmr",
   "language": "python",
   "name": "python3"
  },
  "language_info": {
   "codemirror_mode": {
    "name": "ipython",
    "version": 3
   },
   "file_extension": ".py",
   "mimetype": "text/x-python",
   "name": "python",
   "nbconvert_exporter": "python",
   "pygments_lexer": "ipython3",
   "version": "3.13.2"
  }
 },
 "nbformat": 4,
 "nbformat_minor": 2
}
