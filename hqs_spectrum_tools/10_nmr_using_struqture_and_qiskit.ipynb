{
 "cells": [
  {
   "cell_type": "markdown",
   "metadata": {},
   "source": [
    "## The Prediction of Nuclear Magnetic Resonance Spectroscopy\n",
    "\n",
    "In this tutorial, we showcase the simulation of Nuclear Magnetic Resonance (NMR) Spectroscopy of organic molecules as an application of quantum computers using qiskit. In the NMR experiment, a magnetic field is applied to the sample, which polarizes the nuclear spins and in turn reveals the internal struqture of the molecule.\n",
    "\n",
    "This notebook implements the calculation that has been discussed in detail in the papers ([Nature Machine Intelligence 2, 396 (2020)](https://www.nature.com/articles/s42256-020-0198-x)) by Sels et al. and  ([arXiv:2404.18903](https://arxiv.org/abs/2404.18903)) by [HQS Quantum Simulations](quantumsimulations.de). \n"
   ]
  },
  {
   "cell_type": "markdown",
   "metadata": {},
   "source": [
    "We start by importing relevant libraries, more specifically in this notebook we use `qiskit`, `qiskit_ibm_runtime` to streamline quantum computations and `qiskit_aer` to execute quantum circuits on simulator backend."
   ]
  },
  {
   "cell_type": "code",
   "execution_count": null,
   "metadata": {},
   "outputs": [],
   "source": [
    "import qiskit\n",
    "import json\n",
    "from qiskit_ibm_runtime import Estimator\n",
    "from qiskit_aer import AerSimulator\n",
    "import numpy as np\n",
    "from qiskit.quantum_info.operators import SparsePauliOp\n",
    "\n",
    "from struqture_py.spins import PauliHamiltonian"
   ]
  },
  {
   "cell_type": "markdown",
   "metadata": {},
   "source": [
    "We next specify the relevant parameters of the trotterized time evolutions:"
   ]
  },
  {
   "cell_type": "code",
   "execution_count": null,
   "metadata": {},
   "outputs": [],
   "source": [
    "number_of_trottersteps = 400\n",
    "number_spins = 2\n",
    "number_shots = 1000\n",
    "trotter_timestep = 0.01"
   ]
  },
  {
   "cell_type": "markdown",
   "metadata": {},
   "source": [
    "### Step 1: Define the Hamiltonian\n",
    "\n",
    "This notebook loads the Hamiltonian of `cis-3-chloroacrylic acid` at the magnetic field of 11.7 Tesla in $x$ direction from a json file, written in `struqture_py` (where the mean-value of chemical shifts is removed to make simulation computationally less demanding, see aforementioned papers for more details). You can find the user documentation for `struqture_py` here: https://hqsquantumsimulations.github.io/struqture/"
   ]
  },
  {
   "cell_type": "code",
   "execution_count": null,
   "metadata": {},
   "outputs": [],
   "source": [
    "with open(\n",
    "    \"10_qiskit_files/hamiltonian_cis_3_chloroacrylic_acid_B=11.7_Tesla.json\", \"r\"\n",
    ") as json_file:\n",
    "    hamiltonian_json = json.load(json_file)\n",
    "\n",
    "system_hamiltonian = PauliHamiltonian.from_json(hamiltonian_json)\n",
    "\n",
    "system_hamiltonian"
   ]
  },
  {
   "cell_type": "markdown",
   "metadata": {},
   "source": [
    "In the presence of a static magnetic field $\\vec{B}$, the spin Hamiltonian of a given molecule in the liquid phase reads\n",
    "\n",
    "$$H = -\\gamma \\sum_{i=1}^N (1+\\delta_i) {\\vec{S}_{i}} \\cdot \\vec{B} +  \\sum_{i,j=1}^N\\sum_{j>i} J_{ij}  \\vec{S}_{i} \\cdot \\vec{S}_{j} ~, $$\n",
    "\n",
    "where $\\gamma$ is the gyromagnetic ratio, $N$ the total number of spins, $\\delta_i$ encodes the chemical shifts caused by electrons shielding the magnetic field,\n",
    "$\\vec{S}$ represents the nuclear spin, and $J_{ij}$ determines the strength of the interaction between $i$-th and $j$-th nuclear spins. Note that in the liquid phase, the Hamiltonian has the SU(2) symmetry. Here we assume the magnetic field to be in $x$ direction."
   ]
  },
  {
   "cell_type": "markdown",
   "metadata": {},
   "source": [
    "We can use the following function to define the Hamiltonian in `qiskit` from the `struqture_py` one."
   ]
  },
  {
   "cell_type": "code",
   "execution_count": null,
   "metadata": {},
   "outputs": [],
   "source": [
    "from qiskit.quantum_info.operators import SparsePauliOp\n",
    "from struqture_py.spins import PauliHamiltonian\n",
    "\n",
    "\n",
    "def struqture_hamiltonian_to_qiskit_op(\n",
    "    ham_struqture: PauliHamiltonian, n_qubits: int\n",
    ") -> SparsePauliOp:\n",
    "    \"\"\"Converts struqture-style Pauli strings (\"iXjZ\") to Qiskit format (\"XZ\",[i,j]).\n",
    "\n",
    "    Args:\n",
    "        struqture_input: String or list of strings in struqture format.\n",
    "        n_qubits: Total number of qubits.\n",
    "\n",
    "    Returns:\n",
    "        Qiskit-style Pauli string or list of such strings.\n",
    "    \"\"\"\n",
    "\n",
    "    def convert_single(s: str) -> str:\n",
    "        pauli_vec = [\"I\"] * n_qubits\n",
    "        if s != \"I\":\n",
    "            for i in range(0, len(s), 2):\n",
    "                idx = int(s[i])\n",
    "                op = s[i + 1]\n",
    "                pauli_vec[n_qubits - idx - 1] = op\n",
    "        return \"\".join(pauli_vec)\n",
    "\n",
    "    pauli_strs = []\n",
    "    coeffs = []\n",
    "    for key, val in zip(ham_struqture.keys(), ham_struqture.values()):\n",
    "        s = str(key)\n",
    "        p = convert_single(s)\n",
    "        pauli_strs.append(p)\n",
    "        coeffs.append(complex(val))\n",
    "\n",
    "    return SparsePauliOp(pauli_strs, coeffs)"
   ]
  },
  {
   "cell_type": "code",
   "execution_count": null,
   "metadata": {},
   "outputs": [],
   "source": [
    "H = struqture_hamiltonian_to_qiskit_op(system_hamiltonian, 2)\n",
    "\n",
    "H"
   ]
  },
  {
   "cell_type": "markdown",
   "metadata": {},
   "source": [
    "We define the relevant operators, namly the total magnetization in z and y direction."
   ]
  },
  {
   "cell_type": "code",
   "execution_count": null,
   "metadata": {},
   "outputs": [],
   "source": [
    "Magnetization_z = SparsePauliOp.from_sparse_list([(\"Z\", [0], 1.0)], num_qubits=number_spins)\n",
    "\n",
    "for i in range(1, number_spins):\n",
    "    Magnetization_z += SparsePauliOp.from_sparse_list([(\"Z\", [i], 1.0)], num_qubits=number_spins)\n",
    "\n",
    "Magnetization_y = SparsePauliOp.from_sparse_list([(\"Y\", [0], 1.0)], num_qubits=number_spins)\n",
    "\n",
    "for i in range(1, number_spins):\n",
    "    Magnetization_y += SparsePauliOp.from_sparse_list([(\"Y\", [i], 1.0)], num_qubits=number_spins)"
   ]
  },
  {
   "cell_type": "markdown",
   "metadata": {},
   "source": [
    "### Step 2: Find Quantum Circuit of Trotterized Time-Evolution\n",
    "\n",
    "Assuming that the magnetic field is applied in x direction, the NMR spectrum is obtained from the Fourier transform of the following:\n",
    "\n",
    "$$ \\langle S^{z/y}_{\\rm tot}(t)S^z_{\\rm tot}(0)\\rangle = \\text{Tr} \\{ e^{iHt}S^{z/y}_{\\rm tot} e^{-iHt} S^z_{\\rm tot} \\} ~,$$\n",
    "which by introducing the eigenstates of $S^z_{\\rm tot}| m_n\\rangle=m_n| m_n\\rangle$ can be rewritten as\n",
    "\n",
    "$$ \\langle S^{z/y}_{\\rm tot}(t)S^z_{\\rm tot}(0)\\rangle = \\sum_{m_n(0)>0} m_n (0) \\langle m_n(t)|S^{z/y}_{\\rm tot}| m_n(t)\\rangle ~,$$\n",
    "\n",
    "where the sum is over all initial states resulting is positive total magnetization. In the current example for 2 spins, we only have one relevant initial state. For bigger molecules, see 'HQS Qorrelator App' from ([HQStage](https://docs.cloud.quantumsimulations.de)).\n",
    "\n",
    "We therefore find the quantum circuit corresponding to a trotterized time evolution."
   ]
  },
  {
   "cell_type": "code",
   "execution_count": null,
   "metadata": {},
   "outputs": [],
   "source": [
    "from qiskit.circuit import QuantumCircuit\n",
    "from qiskit.circuit.library import PauliEvolutionGate\n",
    "from qiskit.synthesis import LieTrotter\n",
    "\n",
    "trotter_step_first_order = PauliEvolutionGate(H, trotter_timestep, synthesis=LieTrotter())\n",
    "\n",
    "# We create an empty circuit\n",
    "circuit = QuantumCircuit(H.num_qubits)\n",
    "circuit.append(trotter_step_first_order, range(H.num_qubits))\n",
    "circuit = circuit.decompose(reps=2)\n",
    "\n",
    "print(circuit)"
   ]
  },
  {
   "cell_type": "markdown",
   "metadata": {},
   "source": [
    "### Step 3: Running the Circuit on QPU or simulator\n",
    "\n",
    "In this step we use one of the backends in qiskit to perform a the trotterzed time-evolution and find the time dependence of total Magnetization for our system of interest."
   ]
  },
  {
   "cell_type": "code",
   "execution_count": null,
   "metadata": {},
   "outputs": [],
   "source": [
    "full_circuit = QuantumCircuit(H.num_qubits)\n",
    "\n",
    "number_of_initializations = 1\n",
    "\n",
    "m_ind_z = np.zeros((number_of_initializations, number_of_trottersteps), dtype=complex)\n",
    "m_ind_y = np.zeros((number_of_initializations, number_of_trottersteps), dtype=complex)\n",
    "\n",
    "times = []\n",
    "\n",
    "for m in range(number_of_initializations):\n",
    "\n",
    "    for n in range(number_of_trottersteps):\n",
    "        if n > 0:\n",
    "            full_circuit = full_circuit.compose(circuit)\n",
    "\n",
    "        # Select provider\n",
    "        backend = AerSimulator(method=\"statevector\")\n",
    "        estimator = Estimator(backend, options={\"default_shots\": int(10000)})\n",
    "        # Run\n",
    "        job = estimator.run([(full_circuit, [Magnetization_z, Magnetization_y])])\n",
    "        results = job.result()[0].data.evs\n",
    "        m_ind_z[m, n] = results[0]\n",
    "        m_ind_y[m, n] = results[1]\n",
    "\n",
    "        if m == 0:\n",
    "            times.append(n * trotter_timestep)"
   ]
  },
  {
   "cell_type": "code",
   "execution_count": null,
   "metadata": {},
   "outputs": [],
   "source": [
    "m_avg_z = []\n",
    "m_avg_y = []\n",
    "\n",
    "avg = 0\n",
    "norm_ch = 0\n",
    "avg_y = 0\n",
    "\n",
    "for j in range(number_of_trottersteps):\n",
    "    avg = 0\n",
    "    avg_y = 0.0\n",
    "    norm_ch = 0\n",
    "    for i in range(number_of_initializations):\n",
    "        avg += m_ind_z[i, 0] * m_ind_z[i, j]\n",
    "        norm_ch += m_ind_z[i, 0]\n",
    "\n",
    "        avg_y += m_ind_z[i, 0] * m_ind_y[i, j]\n",
    "\n",
    "    m_avg_z.append(avg / (2.0 * norm_ch))\n",
    "    m_avg_y.append(avg_y / (2.0 * norm_ch))"
   ]
  },
  {
   "cell_type": "markdown",
   "metadata": {},
   "source": [
    "Let us look at the full magnetization as a function of time."
   ]
  },
  {
   "cell_type": "code",
   "execution_count": null,
   "metadata": {},
   "outputs": [],
   "source": [
    "import matplotlib.pyplot as plt\n",
    "\n",
    "plt.figure(dpi=300)\n",
    "\n",
    "plt.plot(times, m_avg_z, color=\"C0\", marker=\"*\", lw=2.0, label=\"sim\")\n",
    "\n",
    "plt.xlabel(\"Time\", fontsize=10)\n",
    "plt.ylabel(\"Magnetization in z direction\", fontsize=10)\n",
    "plt.legend(loc=\"upper right\", fontsize=10, framealpha=1.0)\n",
    "\n",
    "\n",
    "plt.subplots_adjust(left=0.15, right=0.99, top=0.95, bottom=0.16)\n",
    "\n",
    "plt.xticks(fontsize=10)\n",
    "plt.yticks(fontsize=10)\n",
    "plt.show()"
   ]
  },
  {
   "cell_type": "markdown",
   "metadata": {},
   "source": [
    "### Step 4: Finding the Spectrum\n",
    "\n",
    "In this step, we perform a Fourier transform of the correlation functions to find the spectrum. \n",
    "\n",
    "$$ A(\\omega)=\\text{Re}\\left\\{\\int_{0}^{\\infty}~dt~e^{-i\\omega t-\\Gamma t}\\text{Tr}\\{S^z_{\\rm tot}(t)S^z_{\\rm tot}\\}+i\\int_{0}^{\\infty}~dt~e^{-i\\omega t-\\Gamma t}\\text{Tr}\\{S^y_{\\rm tot}(t)S^z_{\\rm tot}\\}\\right\\},$$\n",
    "\n",
    "where $\\Gamma$ is the effective decoherence rate that physically arises due to the interaction of nuclear spin with its environment or simply an artificial decay to perform the Fourier transform."
   ]
  },
  {
   "cell_type": "code",
   "execution_count": null,
   "metadata": {},
   "outputs": [],
   "source": [
    "from scipy import sparse, integrate\n",
    "\n",
    "time = np.linspace(0, number_of_trottersteps * trotter_timestep, number_of_trottersteps)\n",
    "\n",
    "w_max = 0.5 / trotter_timestep\n",
    "frequencies = np.linspace(-w_max, w_max, number_of_trottersteps)\n",
    "\n",
    "\n",
    "spectrum_full = []\n",
    "\n",
    "gamma = 2.0\n",
    "\n",
    "for w in frequencies:\n",
    "    integrand_z = np.multiply(np.exp(1j * (-2.0 * np.pi * w * time) - gamma * time), m_avg_z)\n",
    "    integrand_y = np.multiply(np.exp(1j * (-2.0 * np.pi * w * time) - gamma * time), m_avg_y)\n",
    "\n",
    "    integral_z = integrate.cumulative_trapezoid(integrand_z, time, initial=0)\n",
    "    integral_y = integrate.cumulative_trapezoid(integrand_y, time, initial=0)\n",
    "\n",
    "    spectrum_full.append(\n",
    "        integral_z.real[number_of_trottersteps - 1] - integral_y.imag[number_of_trottersteps - 1]\n",
    "    )"
   ]
  },
  {
   "cell_type": "code",
   "execution_count": null,
   "metadata": {},
   "outputs": [],
   "source": [
    "G_ratio = 267522128.0  # Gyromagnetic_ratio of 1H in rad/(s*T)\n",
    "z = -1565014368.5806985  # mean value of orinal energies that has been substracted from energies\n",
    "B_field = 11.7  # magnetic field in Tesla\n",
    "\n",
    "\n",
    "Hz_in_ppm = 2.0 * np.pi / (G_ratio * B_field) * 1e6\n",
    "\n",
    "# the chemical shift:\n",
    "chem_shift = 2 * z / (1e-6 * G_ratio * B_field) + 1e6\n",
    "\n",
    "# to have the frequency axis in ppm:\n",
    "ppm = (frequencies) * Hz_in_ppm - chem_shift\n",
    "\n",
    "norm_me = integrate.simpson(spectrum_full, ppm)\n",
    "\n",
    "spectrum_full_new = []\n",
    "\n",
    "for value in spectrum_full:\n",
    "    value_new = value / norm_me\n",
    "    spectrum_full_new.append(value_new)"
   ]
  },
  {
   "cell_type": "markdown",
   "metadata": {},
   "source": [
    "Reading off the known spectrum obtained via exact diagonalization from json file. You can also use `HQS Spectrum Tools` to calculate the spectrum."
   ]
  },
  {
   "cell_type": "code",
   "execution_count": null,
   "metadata": {},
   "outputs": [],
   "source": [
    "import json\n",
    "\n",
    "with open(\n",
    "    \"10_qiskit_files/2qubit_ppm_direct_cis_3_chloroacrylic_acid_B=11.7_Tesla.json\", \"r\"\n",
    ") as f:\n",
    "    ppm_direct = json.load(f)\n",
    "with open(\n",
    "    \"10_qiskit_files/2qubit_spectrum_direct_cis_3_chloroacrylic_acid_B=11.7_Tesla.json\", \"r\"\n",
    ") as f:\n",
    "    spectrum_direct = json.load(f)"
   ]
  },
  {
   "cell_type": "markdown",
   "metadata": {},
   "source": [
    "Comparing the simulated spectrum with known results."
   ]
  },
  {
   "cell_type": "code",
   "execution_count": null,
   "metadata": {},
   "outputs": [],
   "source": [
    "plt.figure(dpi=300, figsize=(10, 6))\n",
    "\n",
    "plt.plot(ppm_direct, spectrum_direct, \"k-\", ms=5, label=\"exact\")\n",
    "plt.plot(ppm, spectrum_full_new, \"C1--\", ms=5, label=\"simulation\")\n",
    "\n",
    "\n",
    "plt.xlabel(\"Frequency [ppm]\", fontsize=20)\n",
    "plt.ylabel(\"Spectrum\", fontsize=20)\n",
    "\n",
    "\n",
    "plt.subplots_adjust(left=0.15, right=0.99, top=0.95, bottom=0.16)\n",
    "\n",
    "plt.xticks(fontsize=15)\n",
    "plt.yticks(fontsize=15)\n",
    "\n",
    "plt.legend(loc=\"upper right\", fontsize=15, framealpha=1.0)\n",
    "plt.subplots_adjust(left=0.22, right=0.90, top=0.90, bottom=0.19)\n",
    "\n",
    "plt.show()"
   ]
  }
 ],
 "metadata": {
  "language_info": {
   "name": "python"
  }
 },
 "nbformat": 4,
 "nbformat_minor": 2
}
