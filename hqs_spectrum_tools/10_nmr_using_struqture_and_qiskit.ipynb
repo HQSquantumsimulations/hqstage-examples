{
 "cells": [
  {
   "cell_type": "markdown",
   "metadata": {},
   "source": [
    "# The Prediction of Nuclear Magnetic Resonance (NMR) Spectroscopy on a Quantum Computer\n",
    "\n",
    "This tutorial demonstrates how to simulate liquid‑state 1H NMR spectra of small organic molecules using Qiskit. We map a spin Hamiltonian to qubit operators, perform trotterized time evolution, evaluate transverse magnetization with Estimator primitives, and recover the frequency‑domain spectrum via a Fourier transform. As a concrete example, we study the molecule *cis‑3‑chloroacrylic acid* \n",
    "\n",
    "\n",
    "<div style=\"display:flex; gap:12px; align-items:flex-start;\">\n",
    "  <img src=\"images/bmse000368.png\"  alt=\"Figure A\" style=\"height:260px; width:auto; object-fit:contain;\">\n",
    "  <img src=\"images/bmse000368_s.png\" alt=\"Figure B\" style=\"height:260px; width:auto; object-fit:contain;\">\n",
    "</div>\n",
    "\n",
    "The cis-3-chloroacrylic acid molecule has a total of three hydrogen atoms, represented by the molecular formula ($C_3H_3ClO_2$). One of these hydrogens is part of the acidic -OH group in the -CO2H moiety; in standard NMR experiments, this hydrogen undergoes exchange with the D2O solvent and is typically not detected. The two hydrogens that are observed in the NMR spectrum are the vinylic hydrogens located on the carbon-carbon double bond. Since these two hydrogens are adjacent to each other across the double bond, they produce two distinct signals in the $^{1}H$ NMR spectrum, which split each other due to their coupling interactions. \n",
    "\n",
    "## What you will do\n",
    "- Load the cis-3‑chloroacrylic acid spin Hamiltonian in struqture format\n",
    "- Transformation to rotating frame\n",
    "- Conver the NMR Hamiltonian to Qiskit’s *SparsePauliOp*.\n",
    "- Construct first‑order (and optionally higher‑order) Trotter circuits for time evolution.\n",
    "- Use Estimator V2 (Qiskit 2.2.x) with a statevector backend to obtain expectation values of magnetization.\n",
    "- Compute the NMR spectrum from time‑domain signals\n",
    "- Preform Fourier transformation and compare against a reference spectrum\n",
    "\n",
    "## Where to find more information\n",
    "\n",
    " - The notebook demonstrate the calculate of the NMR spectrum of *cis‑3‑chloroacrylic acid*. Many more molecule are available on HQStage in the package [HQS NMR Parameters](https://docs.cloud.quantumsimulations.de/hqs-spectrum-tools/introduction.html) which is part of HQS Spectrum Tools. In the documentation of [HQS Spectrum Tools](https://docs.cloud.quantumsimulations.de/hqs-spectrum-tools/subfolder/background/math.html) you can find the derivation of the 1D NMR spectrum.\n",
    " - The reference spectra was calculate with the [HQS Quantum Solver](https://docs.cloud.quantumsimulations.de/hqs-quantum-solvers/index.html)\n",
    " - The derivation of the NMR spectrum on a quantum computer is described in the paper: \n",
    "    - HQS Quantum Simulations, *The impact of noise on the simulation of NMR spectroscopy on NISQ devices*, [arXiv:2404.18903](https://arxiv.org/abs/2404.18903) (2024)"
   ]
  },
  {
   "cell_type": "code",
   "execution_count": 1,
   "metadata": {},
   "outputs": [
    {
     "name": "stdout",
     "output_type": "stream",
     "text": [
      "Note: you may need to restart the kernel to use updated packages.\n"
     ]
    }
   ],
   "source": [
    "# Run this cell once to install the required packages for local/Aer simulation.\n",
    "# Notes:\n",
    "# - qiskit-aer is required for AerSimulator.\n",
    "# - ipykernel is optional; install it if you want this environment as a Jupyter kernel.\n",
    "\n",
    "%pip install -q \"qiskit>=2.2,<3\" qiskit-aer struqture_py numpy scipy matplotlib ipykernel"
   ]
  },
  {
   "cell_type": "code",
   "execution_count": 2,
   "metadata": {},
   "outputs": [],
   "source": [
    "from struqture_py.spins import PauliHamiltonian\n",
    "from qiskit.quantum_info.operators import SparsePauliOp\n",
    "from qiskit.circuit import QuantumCircuit\n",
    "from qiskit.circuit.library import PauliEvolutionGate\n",
    "from qiskit.synthesis import LieTrotter\n",
    "\n",
    "# NEW imports for Qiskit 2.2.x\n",
    "from qiskit.primitives import StatevectorEstimator as Estimator\n",
    "\n",
    "import matplotlib.pyplot as plt\n",
    "import json\n",
    "import numpy as np\n",
    "from scipy.fft import dst\n",
    "from pathlib import Path\n",
    "import pickle\n",
    "from typing import Tuple, Any"
   ]
  },
  {
   "cell_type": "markdown",
   "metadata": {},
   "source": [
    "## 1. NMR Hamiltonian\n",
    "\n",
    "\n",
    "The NMR Hamiltonian is\n",
    "$$\n",
    "\\hat H \\;=\\; -\\sum_{\\ell}\\gamma_\\ell\\!\\left(1+\\delta_\\ell\\right) B_z\\, \\hat I_\\ell^{\\,z}\n",
    "\\;+\\; 2\\pi \\sum_{k<\\ell} J_{k\\ell}\\; \\hat{\\mathbf I}_k \\!\\cdot\\! \\hat{\\mathbf I}_\\ell,\n",
    "\\qquad\n",
    "\\hat{\\mathbf I}_k \\!\\cdot\\! \\hat{\\mathbf I}_\\ell = \\hat I_k^{\\,x}\\hat I_\\ell^{\\,x}+\\hat I_k^{\\,y}\\hat I_\\ell^{\\,y}+\\hat I_k^{\\,z}\\hat I_\\ell^{\\,z}.\n",
    "$$\n",
    "\n",
    "The parameters of the Hamiltonian are:\n",
    "\n",
    "- $\\gamma_l$: gyromagnetic ratio (rad·s⁻¹·T⁻¹). For ¹H, γ/2π ≈ 42.577 MHz/T.\n",
    "- $\\delta_l$: chemical shift (dimensionless). Typically reported in ppm; use δℓ = δℓ(ppm) × 10⁻⁶ inside the Hamiltonian.\n",
    "- $B_z$: static magnetic field along z (T).\n",
    "- $J_{kl}$: isotropic scalar coupling between spins $k$ and $l$ (Hz).\n",
    "- $I^\\alpha_k$: dimensionless spin operators ($\\alpha \\in {x, y, z}$)\n",
    "- $\\omega_l$: shifted Larmor angular frequency\n",
    "\n",
    "\n",
    "This notebook loads the liquid‑state spin Hamiltonian of the molecule `cis-3-chloroacrylic_acid_exp` at a static magnetic field \\(B_0 = 11.7433\\) T applied along the z direction. The Hamiltonian is stored as JSON produced by `struqture_py`. Documentation: https://hqsquantumsimulations.github.io/struqture/\n",
    "\n",
    "\n",
    "\n",
    "At the end of the following cell, we print the `PauliHamiltonian`. The terms in `struqture` mean:\n",
    "\n",
    "- The object is a sparse sum of Pauli strings with real coefficients. A key like `0Z`, `1Z`, or `0X1X` identifies which Pauli operator acts on which spin index:\n",
    "  - `iZ` means a Z operator on spin $i=0,1$.\n",
    "  - `0X1X` means X on spin 0 and X on spin 1 (tensor product $X \\otimes X$). Similarly, `0Y1Y` and `0Z1Z` are $Y \\otimes Y$ and $Z \\otimes Z$ between spins 0 and 1.\n",
    "\n"
   ]
  },
  {
   "cell_type": "code",
   "execution_count": 3,
   "metadata": {},
   "outputs": [
    {
     "name": "stdout",
     "output_type": "stream",
     "text": [
      "Struqture Hamiltonian:\n",
      " PauliHamiltonian{\n",
      "0Z: -9.900257858037949e3,\n",
      "1Z: -1.0014548997163773e4,\n",
      "0X1X: 1.2030758912052322e1,\n",
      "0Y1Y: 1.2030758912052322e1,\n",
      "0Z1Z: 1.2030758912052322e1,\n",
      "}\n"
     ]
    }
   ],
   "source": [
    "# Folder that contains the Hamiltonian JSON files.\n",
    "data_dir = Path(\"10_qiskit_files\")\n",
    "\n",
    "# Name of the molecule.\n",
    "molecule_name = \"bmse000368\"\n",
    "\n",
    "# Magnetic field\n",
    "field_T = 11.7433\n",
    "\n",
    "# Build full filename.\n",
    "filename = data_dir / f\"{molecule_name}_B{field_T}T.json\"\n",
    "\n",
    "# Open JSON file.\n",
    "with open(filename, \"r\") as json_file:\n",
    "    hamiltonian_json = json.load(json_file)\n",
    "\n",
    "# Create PauliHamiltonian from JSON file.\n",
    "hamiltonian_struqture = PauliHamiltonian.from_json(hamiltonian_json)\n",
    "\n",
    "# Get the number of spins in the Hamiltonian.\n",
    "number_spins = hamiltonian_struqture.current_number_spins()\n",
    "\n",
    "# Note that the energies of 0Z and 1Z and 2 to 3 orders of magnetic larger than the coupling.\n",
    "print(\"Struqture Hamiltonian:\\n\", hamiltonian_struqture)"
   ]
  },
  {
   "cell_type": "markdown",
   "metadata": {},
   "source": [
    "## 2. Rotating-frame shift: subtracting the mean Z term\n",
    "\n",
    "After executing the previous cell, we noted that the energies in Hamiltonian differ by 2-3 orders of magnitude. This is problematic when doing a Trotterized time-evolution on a quantum computer. We there perform a transofmraiton to the rotating frame. "
   ]
  },
  {
   "cell_type": "code",
   "execution_count": 4,
   "metadata": {},
   "outputs": [
    {
     "name": "stdout",
     "output_type": "stream",
     "text": [
      "Hamiltonian in rotating frame: \n",
      " PauliHamiltonian{\n",
      "0Z: 5.714556956291199e1,\n",
      "1Z: -5.714556956291199e1,\n",
      "0X1X: 1.2030758912052322e1,\n",
      "0Y1Y: 1.2030758912052322e1,\n",
      "0Z1Z: 1.2030758912052322e1,\n",
      "}\n"
     ]
    }
   ],
   "source": [
    "# We are now extracting the single-qubit Z terms from the full Hamiltonian:\n",
    "z_couplings = []\n",
    "for i in range(number_spins):\n",
    "    z_couplings.append(hamiltonian_struqture.get(f\"{i}Z\"))\n",
    "\n",
    "# Mean of Z terms.\n",
    "mean_z_parameter = np.mean(z_couplings)\n",
    "\n",
    "# We now subtract the mean value of the Z coupling from the full Hamiltonian\n",
    "# to arrive at the Hamiltonian that is used in the NMR calculation and store the second\n",
    "# chemical shift we need to apply to the spectrum at the end.\n",
    "correction_hamiltonian = PauliHamiltonian()\n",
    "for i in range(number_spins):\n",
    "    correction_hamiltonian.set(f\"{i}Z\", mean_z_parameter)\n",
    "\n",
    "hamiltonian_struqture = hamiltonian_struqture - correction_hamiltonian\n",
    "\n",
    "# Setting the chemical shift due to rotating frame of the QC calculation:\n",
    "chemical_shift_hz = mean_z_parameter / (2 * np.pi)\n",
    "\n",
    "# In the rotating frame, the energies are all of order 1.\n",
    "print(\"Hamiltonian in rotating frame: \\n\", hamiltonian_struqture)"
   ]
  },
  {
   "cell_type": "markdown",
   "metadata": {},
   "source": [
    "## 3. Convert Struqture Hamiltonian to Qiskit"
   ]
  },
  {
   "cell_type": "code",
   "execution_count": 5,
   "metadata": {},
   "outputs": [],
   "source": [
    "def struqture_hamiltonian_to_qiskit_op(\n",
    "    ham_struqture: PauliHamiltonian, n_qubits: int\n",
    ") -> SparsePauliOp:\n",
    "    \"\"\"Converts struqture-style Pauli strings (\"iXjZ\") to Qiskit format (\"XZ\",[i,j]).\n",
    "\n",
    "    Args:\n",
    "        struqture_input: String or list of strings in struqture format.\n",
    "        n_qubits: Total number of qubits.\n",
    "\n",
    "    Returns:\n",
    "        Qiskit-style Pauli string or list of such strings.\n",
    "    \"\"\"\n",
    "\n",
    "    def convert_single(s: str) -> str:\n",
    "        pauli_vec = [\"I\"] * n_qubits\n",
    "        if s != \"I\":\n",
    "            for i in range(0, len(s), 2):\n",
    "                idx = int(s[i])\n",
    "                op = s[i + 1]\n",
    "                pauli_vec[n_qubits - idx - 1] = op\n",
    "        return \"\".join(pauli_vec)\n",
    "\n",
    "    pauli_strs = []\n",
    "    coeffs = []\n",
    "    for key, val in zip(ham_struqture.keys(), ham_struqture.values()):\n",
    "        s = str(key)\n",
    "        p = convert_single(s)\n",
    "        pauli_strs.append(p)\n",
    "        coeffs.append(complex(val))\n",
    "\n",
    "    return SparsePauliOp(pauli_strs, coeffs)"
   ]
  },
  {
   "cell_type": "code",
   "execution_count": 6,
   "metadata": {},
   "outputs": [
    {
     "name": "stdout",
     "output_type": "stream",
     "text": [
      "Hamiltonian in Qiskit:\n",
      " SparsePauliOp(['IZ', 'ZI', 'XX', 'YY', 'ZZ'],\n",
      "              coeffs=[ 57.14556956+0.j, -57.14556956+0.j,  12.03075891+0.j,  12.03075891+0.j,\n",
      "  12.03075891+0.j])\n"
     ]
    }
   ],
   "source": [
    "H = struqture_hamiltonian_to_qiskit_op(hamiltonian_struqture, number_spins)\n",
    "\n",
    "# Qiskit representation of the Hamiltonian.\n",
    "print(\"Hamiltonian in Qiskit:\\n\", H)"
   ]
  },
  {
   "cell_type": "markdown",
   "metadata": {},
   "source": [
    "## 4. Quantum circuit for Trotterized time evolution\n",
    "\n",
    "Here we build a Trotter circuit that generates the time dependence needed for the transverse response.\n",
    "\n",
    "We start from  correlator (a small transverse pulse on site $l$, readout on site $k$):\n",
    "$$\n",
    "\\big\\langle \\gamma_k\\, \\hat I_k^{x} \\big\\rangle (t) \\;\\propto\\; \\mathrm{Tr}\\!\\left( \\hat I_k^{x}\\, e^{-i \\hat H t}\\, \\hat I_{\\ell}^{y}\\, e^{+i \\hat H t} \\right).\n",
    "$$\n",
    "\n",
    "After moving to the rotating frame (subtracting the mean Zeeman term) and summing over sites, the required correlators are\n",
    "$$\n",
    "C_{xx}(t) \\;=\\; \\mathrm{Tr}\\!\\big( \\hat I_{x}^{\\rm tot}(t)\\, \\hat I_x^{\\rm tot}(0)\\big), \n",
    "\\qquad\n",
    "C_{yx}(t) \\;=\\; \\mathrm{Tr}\\!\\big( \\hat I_{y}^{\\rm tot}(t)\\, \\hat I_x^{\\rm tot}(0)\\big).\n",
    "$$\n",
    "\n",
    "A useful eigenstate expansion (using eigenstates of $ \\hat I_x^{\\rm tot} $) is\n",
    "\\begin{equation}\n",
    "\\mathrm{Tr}\\!\\big( \\hat I_{x/y}^{\\rm tot}(t)\\, \\hat I_x^{\\rm tot}(0)\\big)\n",
    "\\;=\\;\n",
    "\\sum_{n} m_{x,n}(0)\\, \\langle m_{x,n}(t)\\,|\\, \\hat I_{x/y}^{\\rm tot}\\,|\\, m_{x,n}(t)\\rangle,\n",
    "\\end{equation}\n",
    "where $ m_{x,n}(0) $ are the initial eigenvalues of $ \\hat I_x^{\\rm tot} $. For two spins, symmetry leaves only one relevant initial state (the $ |{+}{+}\\rangle_x $ sector).\n",
    "\n",
    "On a quantum computer we then have to do the following steps:\n",
    "- Prepare an eigenstate of $ \\hat I_x^{\\rm tot} $ with positive magnetization (e.g., $ |{+}{+}\\rangle_x $ for two spins).\n",
    "- Evolve under the rotating‑frame Hamiltonian using a Trotterized unitary $ U(\\Delta t)=e^{-i \\hat H \\Delta t} $ and repeat for $ N $ steps.\n",
    "- At each step, estimate $ \\langle \\hat I_x^{\\rm tot}(t)\\rangle $ and $ \\langle \\hat I_y^{\\rm tot}(t)\\rangle $ (e.g., with Estimator V2), forming $ C_{xx}(t) $ and $ C_{yx}(t) $.\n",
    "- Apply a mild damping/window and Fourier transform; shift the frequency axis by $ -\\bar\\omega $ to obtain the spectrum.\n",
    "\n",
    "The following cells show to perform these steps."
   ]
  },
  {
   "cell_type": "markdown",
   "metadata": {},
   "source": [
    "### 4.1 Trotter circuit"
   ]
  },
  {
   "cell_type": "code",
   "execution_count": 7,
   "metadata": {},
   "outputs": [
    {
     "name": "stdout",
     "output_type": "stream",
     "text": [
      "Trotter circuit: \n",
      "       ┌────────────┐┌───────────────┐┌───────────────┐              \n",
      "q_0: ─┤ Rz(1.1429) ├┤0              ├┤0              ├─■────────────\n",
      "     ┌┴────────────┤│  Rxx(0.24062) ││  Ryy(0.24062) │ │ZZ(0.24062) \n",
      "q_1: ┤ Rz(-1.1429) ├┤1              ├┤1              ├─■────────────\n",
      "     └─────────────┘└───────────────┘└───────────────┘              \n"
     ]
    }
   ],
   "source": [
    "number_of_trottersteps = 100\n",
    "trotter_timestep = 0.01\n",
    "\n",
    "trotter_step_first_order = PauliEvolutionGate(H, trotter_timestep, synthesis=LieTrotter())\n",
    "\n",
    "# We create an empty circuit\n",
    "circuit = QuantumCircuit(H.num_qubits)\n",
    "circuit.append(trotter_step_first_order, range(H.num_qubits))\n",
    "circuit = circuit.decompose(reps=1)\n",
    "\n",
    "print(\"Trotter circuit: \\n\", circuit)"
   ]
  },
  {
   "cell_type": "markdown",
   "metadata": {},
   "source": [
    "### 4.2 Observables\n",
    "\n",
    "To reconstruct the spectrum in the rotating frame, we need the transverse magnetization in both $x$ and $y$ directions. Total transverse operators\n",
    "$$\n",
    "\\hat I_{x/y}^{\\rm tot}=\\sum_k \\hat I_k^{\\,x/y}\n",
    "$$\n",
    "What we record each time step is\n",
    "$\n",
    "\\langle \\hat I_x^{\\rm tot}(t)\\rangle \n",
    "$\n",
    "and \n",
    "$\n",
    "\\langle \\hat I_y^{\\rm tot}(t)\\rangle \\, .\n",
    "$\n",
    "\n",
    "These two signals provide the correlators used in the Fourier transform ($C_{xx}(t) $ and $C_{yx}(t)$ )."
   ]
  },
  {
   "cell_type": "code",
   "execution_count": 8,
   "metadata": {},
   "outputs": [],
   "source": [
    "Magnetization_z = SparsePauliOp.from_sparse_list(\n",
    "    [(\"X\", [i], 1.0) for i in range(number_spins)], num_qubits=number_spins\n",
    ")\n",
    "Magnetization_y = SparsePauliOp.from_sparse_list(\n",
    "    [(\"Y\", [i], 1.0) for i in range(number_spins)], num_qubits=number_spins\n",
    ")"
   ]
  },
  {
   "cell_type": "markdown",
   "metadata": {},
   "source": [
    "### 4.3 Initial state\n",
    "\n",
    "From Eq. (1) we also know that we have to initialize the state as an eigenstate of $I_{x}$ operator. We can do this by a rotation of $\\pi / 2$ around the $y$-axis, or alternatively, apply a Hadamard gate."
   ]
  },
  {
   "cell_type": "code",
   "execution_count": 9,
   "metadata": {},
   "outputs": [],
   "source": [
    "initial_circuit = QuantumCircuit(H.num_qubits)\n",
    "for i in range(H.num_qubits):\n",
    "    initial_circuit.ry(0.5 * np.pi, i)"
   ]
  },
  {
   "cell_type": "markdown",
   "metadata": {},
   "source": [
    "### 4.4 Simulation with Qiskit's *Estimator*\n",
    "\n",
    "In this step we use one of the backends in qiskit to perform a the trotterzed time-evolution and find the time dependence of total magnetization for our system of interest."
   ]
  },
  {
   "cell_type": "code",
   "execution_count": 10,
   "metadata": {},
   "outputs": [],
   "source": [
    "number_of_initializations = 1\n",
    "# Build the estimator ONCE, outside loops (no backend needed for pure statevector)\n",
    "estimator = Estimator()\n",
    "\n",
    "full_circuit = QuantumCircuit(H.num_qubits)\n",
    "full_circuit = full_circuit.compose(initial_circuit)\n",
    "\n",
    "\n",
    "exp_Sz_total = np.zeros((number_of_initializations, number_of_trottersteps), dtype=complex)\n",
    "exp_Sy_total = np.zeros((number_of_initializations, number_of_trottersteps), dtype=complex)\n",
    "times = []\n",
    "\n",
    "for m in range(number_of_initializations):\n",
    "    for n in range(number_of_trottersteps):\n",
    "        if n > 0:\n",
    "            full_circuit = full_circuit.compose(circuit)\n",
    "\n",
    "        # V2 primitive call: a list of PUBs [(circuit, observables, <optional params>)]\n",
    "        job = estimator.run([(full_circuit, [Magnetization_z, Magnetization_y])])\n",
    "        pub_result = job.result()[0]  # PubResult\n",
    "        evs = pub_result.data.evs  # expectation values array-like\n",
    "\n",
    "        exp_Sz_total[m, n] = evs[0]\n",
    "        exp_Sy_total[m, n] = evs[1]\n",
    "\n",
    "        if m == 0:\n",
    "            times.append(n * trotter_timestep)"
   ]
  },
  {
   "cell_type": "markdown",
   "metadata": {},
   "source": [
    "Above we calculate the expectation value for every spins. Now we have to sum over all spins. Additionally we add $0$ to increae the resolution of the spectrum.\n",
    "\n",
    "\\begin{equation}\n",
    "\\mathrm{Tr} \\left( \\hat I_{x,y}^{\\rm tot}(t) \\, \\hat I_x^{\\rm tot}(0)\\right) = \\sum_{m^n_x} m^n_x (0) \\langle m^n_x(t)\\,|\\, I_{x,y}^{\\rm tot} \\,|\\, m^n_x(t)\\rangle ~,\n",
    "\\end{equation}"
   ]
  },
  {
   "cell_type": "code",
   "execution_count": 11,
   "metadata": {},
   "outputs": [
    {
     "name": "stderr",
     "output_type": "stream",
     "text": [
      "/tmp/ipykernel_13092/944763554.py:20: ComplexWarning: Casting complex values to real discards the imaginary part\n",
      "  magnetizations[0, i] = np.sum(S0 * exp_Sz_total[:, i], axis=0) / (2 * norm)\n",
      "/tmp/ipykernel_13092/944763554.py:21: ComplexWarning: Casting complex values to real discards the imaginary part\n",
      "  magnetizations[1, i] = np.sum(S0 * exp_Sy_total[:, i], axis=0) / (2 * norm)\n"
     ]
    }
   ],
   "source": [
    "noise_strength = 1.0e3\n",
    "times = np.linspace(0, trotter_timestep, number_of_trottersteps, endpoint=False)\n",
    "noise_decay = np.exp(-noise_strength * times)\n",
    "exp_Sz_total = exp_Sz_total[0:number_of_initializations, :] * noise_decay\n",
    "exp_Sy_total = exp_Sy_total[0:number_of_initializations, :] * noise_decay\n",
    "\n",
    "padding = 0\n",
    "exp_Sz_total = np.pad(exp_Sz_total, ((0, 0), (0, padding)), mode=\"constant\", constant_values=0)\n",
    "exp_Sy_total = np.pad(exp_Sy_total, ((0, 0), (0, padding)), mode=\"constant\", constant_values=0)\n",
    "\n",
    "# Calculate the norm.\n",
    "S0 = exp_Sz_total[0]\n",
    "norm = np.sum(S0)\n",
    "\n",
    "# Factor of 2 because and z and y measurement.\n",
    "magnetizations = np.zeros((2, number_of_trottersteps + padding))\n",
    "\n",
    "# Perform vectorized calculations\n",
    "for i in range(number_of_trottersteps + padding):\n",
    "    magnetizations[0, i] = np.sum(S0 * exp_Sz_total[:, i], axis=0) / (2 * norm)\n",
    "    magnetizations[1, i] = np.sum(S0 * exp_Sy_total[:, i], axis=0) / (2 * norm)"
   ]
  },
  {
   "cell_type": "code",
   "execution_count": 12,
   "metadata": {},
   "outputs": [
    {
     "data": {
      "image/png": "[encoded data removed]",
      "text/plain": [
       "<Figure size 640x480 with 1 Axes>"
      ]
     },
     "metadata": {},
     "output_type": "display_data"
    }
   ],
   "source": [
    "plt.figure(dpi=100)\n",
    "plt.plot(times, magnetizations[0], color=\"C0\", lw=2.0)\n",
    "plt.xlabel(\"Time\", fontsize=10)\n",
    "plt.ylabel(\"Magnetization in z direction\", fontsize=10)\n",
    "plt.show()"
   ]
  },
  {
   "cell_type": "markdown",
   "metadata": {},
   "source": [
    "## 5. Finding the Spectrum\n",
    "\n",
    "In this step, we perform a Fourier transform of the correlation functions to find the spectrum (a detailed derivation fo the spectral function can be found in the paper [arXiv:2404.18903](https://arxiv.org/abs/2404.18903))\n",
    "\n",
    "$$\n",
    "S(\\omega)\n",
    "\\;=\\;\n",
    "\\,\\mathrm{Re}\\!\\int_{0}^{\\infty} \\! dt\\; e^{-i(\\omega-\\bar\\omega)t - \\Gamma t}\\,\n",
    "\\mathrm{Tr} \\left( \\hat I_x^{\\rm tot}(t)\\,\\hat I_x^{\\rm tot}(0) \\right)\n",
    "\\;-\\;\n",
    "\\,\\mathrm{Im}\\!\\int_{0}^{\\infty} \\! dt\\; e^{-i(\\omega-\\bar\\omega)t - \\Gamma t}\\,\n",
    "\\mathrm{Tr} \\left( \\hat I_y^{\\rm tot}(t)\\,\\hat I_x^{\\rm tot}(0) \\right).\n",
    "$$\n",
    "\n",
    "where $\\Gamma$ is the effective decoherence rate that physically arises due to the interaction of nuclear spin with its environment or simply an artificial decay to perform the Fourier transform."
   ]
  },
  {
   "cell_type": "code",
   "execution_count": 13,
   "metadata": {},
   "outputs": [],
   "source": [
    "def correlators_to_spectrum(\n",
    "    m_avg_z: np.ndarray,\n",
    "    m_avg_y: np.ndarray,\n",
    "    trotter_timestep: float,\n",
    "    Hz_to_ppm_conversion: float,\n",
    "    chem_shift_hz: float,\n",
    ") -> Tuple[np.ndarray[Any, Any], np.ndarray[Any, Any]]:\n",
    "    \"\"\"Calculate the full spectrum from the computed correlators via a Fourier Transform.\n",
    "\n",
    "    Args:\n",
    "        m_avg_z (np.ndarray): The first correlator (e.g., the ZZ correlator if the field\n",
    "            is in the x-direction).\n",
    "        m_avg_y (np.ndarray): The second correlator (e.g., the YZ correlator if the field\n",
    "            is in the x-direction).\n",
    "        N_max (int): Number of Trotter steps.\n",
    "        trotter_timestep (float): The Trotter timestep.\n",
    "        Hz_to_ppm_conversion (float): Conversion factor from frequency to ppm.\n",
    "        chem_shift_hz (float): The chemical shift of the input Hamiltonian (in Hz).\n",
    "        reference_energy (float): The energy of the homoisotope (H) times the magnetic field.\n",
    "        broadening (float): Decay strength (useful when modeling without noise).\n",
    "\n",
    "    Returns:\n",
    "        Tuple[np.ndarray, np.ndarray]: A tuple containing:\n",
    "            - **spectrum_full (np.ndarray):** The calculated spectrum.\n",
    "            - **ppm (np.ndarray):** The ppm array to plot the full spectrum against.\n",
    "    \"\"\"\n",
    "    spectrum_full = np.zeros(m_avg_z.shape[0], dtype=np.float64)\n",
    "\n",
    "    m_avg_z = fft_causal(m_avg_z)\n",
    "    m_avg_y = fft_causal(m_avg_y)\n",
    "\n",
    "    frequencies = np.fft.fftshift(np.fft.fftfreq(times.shape[-1], d=trotter_timestep))\n",
    "\n",
    "    # And now we have the frequency axis in ppm:\n",
    "    # we need to shift the frequencies by twice the chemical input shift and then by the reference\n",
    "    # energy, i.e. the energy of the homoisotope (H) times the magnetic field.\n",
    "    ppm = (frequencies - 2 * chem_shift_hz) * Hz_to_ppm_conversion\n",
    "\n",
    "    spectrum_full = m_avg_z.real + m_avg_y.imag\n",
    "\n",
    "    spectrum_full /= np.max(np.abs(spectrum_full))\n",
    "\n",
    "    return np.abs(spectrum_full), ppm\n",
    "\n",
    "\n",
    "def fft_causal(f: np.ndarray) -> np.ndarray:\n",
    "    \"\"\"\n",
    "    Performs the Fourier Transform of a causal signal by separating its even and odd parts.\n",
    "\n",
    "    Args:\n",
    "        f (np.ndarray): Input causal signal.\n",
    "\n",
    "    Returns:\n",
    "        np.ndarray: The complex Fourier Transform of the causal signal.\n",
    "    \"\"\"\n",
    "    L = len(f)\n",
    "\n",
    "    # Even part (symmetrize)\n",
    "    fe = np.zeros(2 * L - 1, dtype=f.dtype)\n",
    "    fe[:L] = f\n",
    "    fe[L:] = f[:-1][::-1]\n",
    "    fe /= 2\n",
    "\n",
    "    # Odd part (antisymmetrize)\n",
    "    fo = np.zeros(2 * L - 1, dtype=f.dtype)\n",
    "    fo[:L] = f\n",
    "    fo[L:] = -f[:-1][::-1]\n",
    "    fo /= 2\n",
    "    fo[0] = 0  # Avoids jump discontinuity at t=0\n",
    "\n",
    "    # FFT with orthogonal normalization and shift\n",
    "    fft_even = np.fft.fftshift(np.fft.fft(fe, norm=\"ortho\"))\n",
    "    fft_odd = np.fft.fftshift(np.fft.fft(fo, norm=\"ortho\"))\n",
    "\n",
    "    # Combine and downsample to original length\n",
    "    combined_fft = (fft_even + fft_odd)[::2]\n",
    "\n",
    "    return combined_fft"
   ]
  },
  {
   "cell_type": "code",
   "execution_count": 14,
   "metadata": {},
   "outputs": [],
   "source": [
    "GYROMAGNETIC_RATIOS_ISOTOPE_1H = 267522128.0\n",
    "\n",
    "reference_energy_hz = GYROMAGNETIC_RATIOS_ISOTOPE_1H * field_T / (2 * np.pi)\n",
    "\n",
    "# Setting the conversion between Hz and ppm depending on the magnetic field and the isotope.\n",
    "Hz_to_ppm_conversion = 2.0 * np.pi / (GYROMAGNETIC_RATIOS_ISOTOPE_1H * field_T) * 1e6"
   ]
  },
  {
   "cell_type": "code",
   "execution_count": 15,
   "metadata": {},
   "outputs": [],
   "source": [
    "spectrum_full, ppm = correlators_to_spectrum(\n",
    "    magnetizations[0],\n",
    "    magnetizations[1],\n",
    "    trotter_timestep,\n",
    "    Hz_to_ppm_conversion=Hz_to_ppm_conversion,\n",
    "    chem_shift_hz=chemical_shift_hz,\n",
    ")"
   ]
  },
  {
   "cell_type": "markdown",
   "metadata": {},
   "source": [
    "Reading off the known spectrum obtained via exact diagonalization from json file. You can also use *HQS Spectrum Tools* to calculate the spectrum."
   ]
  },
  {
   "cell_type": "code",
   "execution_count": 16,
   "metadata": {},
   "outputs": [],
   "source": [
    "with open(data_dir / \"hqs_quantum_solver_bmse000368_B11.7433T.pkl\", \"rb\") as f:\n",
    "    hqs_quantum_solver_results = pickle.load(f)\n",
    "\n",
    "hqs_quantum_solver_ppm = hqs_quantum_solver_results[\"frequencies\"]\n",
    "hqs_quantum_solver_spectrum = hqs_quantum_solver_results[\"spectrum\"]\n",
    "hqs_quantum_solver_spectrum /= np.max(np.abs(hqs_quantum_solver_spectrum))"
   ]
  },
  {
   "cell_type": "markdown",
   "metadata": {},
   "source": [
    "Comparing the simulated spectrum with known results."
   ]
  },
  {
   "cell_type": "code",
   "execution_count": 17,
   "metadata": {},
   "outputs": [
    {
     "data": {
      "image/png": "[encoded data removed]",
      "text/plain": [
       "<Figure size 640x480 with 1 Axes>"
      ]
     },
     "metadata": {},
     "output_type": "display_data"
    }
   ],
   "source": [
    "plt.figure(dpi=100)\n",
    "plt.plot(\n",
    "    hqs_quantum_solver_ppm, hqs_quantum_solver_spectrum, color=\"C0\", label=\"HQS Quantum Solver\"\n",
    ")\n",
    "plt.plot(ppm, spectrum_full, color=\"C1\", ls=\"--\", label=\"Simulation on Quantum Computer\")\n",
    "\n",
    "plt.xlabel(\"Frequency [ppm]\")\n",
    "plt.ylabel(\"Spectrum\")\n",
    "plt.legend(fontsize=7)\n",
    "plt.show()"
   ]
  },
  {
   "cell_type": "code",
   "execution_count": null,
   "metadata": {},
   "outputs": [],
   "source": []
  }
 ],
 "metadata": {
  "kernelspec": {
   "display_name": "Python 3",
   "language": "python",
   "name": "python3"
  },
  "language_info": {
   "codemirror_mode": {
    "name": "ipython",
    "version": 3
   },
   "file_extension": ".py",
   "mimetype": "text/x-python",
   "name": "python",
   "nbconvert_exporter": "python",
   "pygments_lexer": "ipython3",
   "version": "3.12.0"
  }
 },
 "nbformat": 4,
 "nbformat_minor": 2
}
