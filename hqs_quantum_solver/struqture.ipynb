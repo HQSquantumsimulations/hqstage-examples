{
 "cells": [
  {
   "cell_type": "markdown",
   "id": "0",
   "metadata": {},
   "source": [
    "# Struqture Hamiltonians\n",
    "\n",
    "In this guide you will learn how to create operators using\n",
    "[Struqture](https://github.com/HQSquantumsimulations/struqture), which\n",
    "is a library\n",
    "that is used to describe quantum mechanical operators and systems. It can\n",
    "be used as an input to HQS Quantum Solver for defining spin systems.\n",
    "\n",
    "For this chapter, we use the system of antiferromagnetically coupled\n",
    "spins defined by the Hamiltonian $\\hat{H}$, where\n",
    "\n",
    "$$\n",
    "  \\hat{H} = J \\sum_{j = 0}^{M-2} \\hat{\\mathbf{S}}_j \\cdot\n",
    "    \\hat{\\mathbf{S}}_{j+1}\n",
    "  \\, \\quad\\text{and}\\quad\n",
    "  J > 0,\n",
    "$$\n",
    "as an example.\n",
    "\n",
    "## Imports & Parameters\n",
    "\n",
    "Throughout this chapter, we will use the following imports."
   ]
  },
  {
   "cell_type": "code",
   "execution_count": 1,
   "id": "1",
   "metadata": {},
   "outputs": [
    {
     "name": "stderr",
     "output_type": "stream",
     "text": [
      "# License check turned off for lattice_functions.\n",
      "# License check turned off for lattice_solver.\n"
     ]
    }
   ],
   "source": [
    "import numpy as np\n",
    "import matplotlib.pyplot as plt\n",
    "from scipy.sparse.linalg import eigsh\n",
    "\n",
    "from struqture_py import PauliHamiltonian\n",
    "\n",
    "from hqs_quantum_solver.spins import (\n",
    "    VectorSpace, Operator, magnetic_field_z, struqture_term\n",
    ")"
   ]
  },
  {
   "cell_type": "markdown",
   "id": "2",
   "metadata": {},
   "source": [
    "Furthermore, we will make use of the following parameters."
   ]
  },
  {
   "cell_type": "code",
   "execution_count": 2,
   "id": "3",
   "metadata": {},
   "outputs": [],
   "source": [
    "M = 8    # number of sites/spins\n",
    "J = 1.0  # interaction strength\n",
    "B = 3.0  # magnetic field strength (will be introduced later)"
   ]
  },
  {
   "cell_type": "markdown",
   "id": "4",
   "metadata": {},
   "source": [
    "## Building Operators\n",
    "\n",
    "Hamiltonians for spin systems can be described in Struqture using the\n",
    "[PauliHamiltonian] class. (Other options for describing spin systems are\n",
    "the [PauliOperator] and [PlusMinusOperator] classes.)\n",
    "The class describes a sum of products of operators.\n",
    "Each operator acts on a specific site of the system, and each product\n",
    "has at most one operator per site.\n",
    "More precisely, the operators have the form\n",
    "$$\n",
    "  \\hat{A} =\n",
    "    \\sum_k \\alpha_k \\prod_{j = 0}^{M-1} \\hat{B}_{kj}\n",
    "    \\quad\\text{where}\\quad\n",
    "    \\alpha_j \\in \\mathbb{C} \\quad\\text{and}\\quad\n",
    "    \\hat{B}_{kj} \\in \\{\n",
    "      \\hat{I}, \\hat{X}_j, \\hat{Y}_j, \\hat{Z}_j \\}\n",
    "  \\,.\n",
    "$$\n",
    "Inhere,\n",
    "$\\hat{X}_j = 2 \\hat{S}^x_j$, $\\hat{Y}_j = 2 \\hat{S}^y_j$, and\n",
    "$\\hat{Z}_j = 2 \\hat{S}^z_j$.\n",
    "The previously defined Hamiltonian can be written in this form: we have\n",
    "that\n",
    "$$\n",
    "  \\hat{H}\n",
    "    = J \\sum_{j = 0}^{M-2} (\n",
    "      \\hat{S}^x_j \\hat{S}^x_{j+1} +\n",
    "      \\hat{S}^y_j \\hat{S}^y_{j+1} +\n",
    "      \\hat{S}^z_j \\hat{S}^z_{j+1}\n",
    "    )\n",
    "    =\n",
    "    \\tfrac{1}{4} J \\sum_{j=0}^{M-2} (\n",
    "      \\hat{X}_j \\hat{X}_{j+1} +\n",
    "      \\hat{Y}_j \\hat{Y}_{j+1} +\n",
    "      \\hat{Z}_j \\hat{Z}_{j+1}\n",
    "    )\\,,\n",
    "$$\n",
    "which has the desired shape.\n",
    "\n",
    "To define the Hamiltonian using Struqture, we first create an object of type\n",
    "[PauliHamiltonian] and then add the individual products using the\n",
    "`.add_operator_product` method.\n",
    "Each product is given by a string, describing the operator product, and the\n",
    "corresponding coefficient.\n",
    "The string consecutively lists the terms of the product,\n",
    "where each factor is represented by a number followed by a character.\n",
    "The number defines the site the operator is acting on, and the character\n",
    "defines the type of the operator, e.g. `\"2X3X\"` describes the product\n",
    "$\\hat{X}_2 \\hat{X}_3$.\n",
    "In the following code, we use\n",
    "[Python format strings](https://docs.python.org/3/library/string.html#formatstrings)\n",
    "to build the required strings.\n",
    "\n",
    "[PauliHamiltonian]: https://hqsquantumsimulations.github.io/struqture/python_api_docs/generated/struqture_py.html#struqture_py.PauliHamiltonian\n",
    "[PauliOperator]: https://hqsquantumsimulations.github.io/struqture/python_api_docs/generated/struqture_py.html#struqture_py.PauliOperator\n",
    "[PlusMinusOperator]: https://hqsquantumsimulations.github.io/struqture/python_api_docs/generated/struqture_py.html#struqture_py.PlusMinusOperator"
   ]
  },
  {
   "cell_type": "code",
   "execution_count": 3,
   "id": "5",
   "metadata": {},
   "outputs": [
    {
     "name": "stdout",
     "output_type": "stream",
     "text": [
      "PauliHamiltonian{\n",
      "0X1X: 2.5e-1,\n",
      "0Y1Y: 2.5e-1,\n",
      "0Z1Z: 2.5e-1,\n",
      "1X2X: 2.5e-1,\n",
      "1Y2Y: 2.5e-1,\n",
      "1Z2Z: 2.5e-1,\n",
      "2X3X: 2.5e-1,\n",
      "2Y3Y: 2.5e-1,\n",
      "2Z3Z: 2.5e-1,\n",
      "3X4X: 2.5e-1,\n",
      "3Y4Y: 2.5e-1,\n",
      "3Z4Z: 2.5e-1,\n",
      "4X5X: 2.5e-1,\n",
      "4Y5Y: 2.5e-1,\n",
      "4Z5Z: 2.5e-1,\n",
      "5X6X: 2.5e-1,\n",
      "5Y6Y: 2.5e-1,\n",
      "5Z6Z: 2.5e-1,\n",
      "6X7X: 2.5e-1,\n",
      "6Y7Y: 2.5e-1,\n",
      "6Z7Z: 2.5e-1,\n",
      "}\n"
     ]
    }
   ],
   "source": [
    "interaction = PauliHamiltonian()\n",
    "\n",
    "for j in range(M - 1):\n",
    "    interaction.add_operator_product(f\"{j}X{j+1}X\", 0.25 * J)\n",
    "    interaction.add_operator_product(f\"{j}Y{j+1}Y\", 0.25 * J)\n",
    "    interaction.add_operator_product(f\"{j}Z{j+1}Z\", 0.25 * J)\n",
    "\n",
    "print(interaction)"
   ]
  },
  {
   "cell_type": "markdown",
   "id": "6",
   "metadata": {},
   "source": [
    "Running the code above creates the desired operator and prints the following\n",
    "output, which shows how Struqture stores the operator, where each line gives\n",
    "one summand from the formula for the Hamiltonian.\n",
    "\n",
    "```\n",
    "PauliHamiltonian{\n",
    "0X1X: 5e-1,\n",
    "0Y1Y: 5e-1,\n",
    "0Z1Z: 5e-1,\n",
    "1X2X: 5e-1,\n",
    "1Y2Y: 5e-1,\n",
    "1Z2Z: 5e-1,\n",
    "2X3X: 5e-1,\n",
    "2Y3Y: 5e-1,\n",
    "2Z3Z: 5e-1,\n",
    "3X4X: 5e-1,\n",
    "3Y4Y: 5e-1,\n",
    "3Z4Z: 5e-1,\n",
    "4X5X: 5e-1,\n",
    "4Y5Y: 5e-1,\n",
    "4Z5Z: 5e-1,\n",
    "5X6X: 5e-1,\n",
    "5Y6Y: 5e-1,\n",
    "5Z6Z: 5e-1,\n",
    "}\n",
    "```\n",
    "\n",
    "Having a description of the Hamiltonian, we can create an actual operator\n",
    "that we can use in computations. The first thing to do is to convert the\n",
    "Struqture object into a Quantum Solver expression, using the\n",
    "[struqture_term](https://docs.cloud.quantumsimulations.de/hqs-quantum-solvers/reference/generated/hqs_quantum_solver.spins.html#hqs_quantum_solver.spins.struqture_term) function.\n",
    "Then, we need to create a [VectorSpace](https://docs.cloud.quantumsimulations.de/hqs-quantum-solvers/reference/generated/hqs_quantum_solver.spins.html#hqs_quantum_solver.spins.VectorSpace)\n",
    "object that described the vector space the operator is acting on, and\n",
    "finally an\n",
    "[Operator](https://docs.cloud.quantumsimulations.de/hqs-quantum-solvers/reference/generated/hqs_quantum_solver.spins.html#hqs_quantum_solver.spins.Operator)\n",
    "object, by passing in the expression describing the operator and the vector\n",
    "space. Note that we can use the `.current_number_spins` method to set\n",
    "the number of sites in the vector space."
   ]
  },
  {
   "cell_type": "code",
   "execution_count": 4,
   "id": "7",
   "metadata": {},
   "outputs": [],
   "source": [
    "v = VectorSpace(sites=interaction.current_number_spins(), total_spin_z=\"all\")\n",
    "hamiltonian = Operator(struqture_term(interaction), domain=v)"
   ]
  },
  {
   "cell_type": "markdown",
   "id": "8",
   "metadata": {},
   "source": [
    "With the operator, we can now compute and plot the energy levels.\n",
    "Since Quantum Solver operators are compatible to SciPy, we can directly\n",
    "call the [eigsh](https://docs.scipy.org/doc/scipy/reference/generated/scipy.sparse.linalg.eigsh.html#scipy.sparse.linalg.eigsh) function from SciPy to\n",
    "obtain the energy levels. Then we use Matplotlib to create a plot of the\n",
    "levels."
   ]
  },
  {
   "cell_type": "code",
   "execution_count": 5,
   "id": "9",
   "metadata": {},
   "outputs": [
    {
     "data": {
      "text/plain": [
       "[<matplotlib.lines.Line2D at 0x7fc128f98b90>]"
      ]
     },
     "execution_count": 5,
     "metadata": {},
     "output_type": "execute_result"
    },
    {
     "data": {
      "image/png": "[encoded data removed]",
      "text/plain": [
       "<Figure size 640x480 with 1 Axes>"
      ]
     },
     "metadata": {},
     "output_type": "display_data"
    }
   ],
   "source": [
    "eigvals, eigvecs = eigsh(hamiltonian, k=16, which=\"SA\")\n",
    "\n",
    "plt.figure(\"energy\")\n",
    "plt.title(\"Energy Levels\")\n",
    "plt.xlabel(\"Level Number\")\n",
    "plt.ylabel(\"Energy\")\n",
    "plt.plot(eigvals, \"x\")"
   ]
  },
  {
   "cell_type": "markdown",
   "id": "10",
   "metadata": {},
   "source": [
    "## Restricting the Spin Polarization\n",
    "\n",
    "If we know that we only need to consider states with a given\n",
    "total spin polarization in $z$ direction, e.g., when considering\n",
    "Hamiltonians that conserve the total spin polarization, we can\n",
    "restrict the states the vector space represents accordingly.\n",
    "This restriction can significantly reduce the amount of computational work\n",
    "needed. Say, we know that the total spin polarization is zero. Then,\n",
    "we can create the restricted vector space and the operator that is\n",
    "defined on it as follows."
   ]
  },
  {
   "cell_type": "code",
   "execution_count": 6,
   "id": "11",
   "metadata": {},
   "outputs": [],
   "source": [
    "w = VectorSpace(sites=interaction.current_number_spins(), total_spin_z=0)\n",
    "hamiltonian2 = Operator(struqture_term(interaction), domain=w)"
   ]
  },
  {
   "cell_type": "markdown",
   "id": "12",
   "metadata": {},
   "source": [
    "Computing and plotting the energy levels can then be done as before."
   ]
  },
  {
   "cell_type": "code",
   "execution_count": 7,
   "id": "13",
   "metadata": {},
   "outputs": [
    {
     "data": {
      "text/plain": [
       "[<matplotlib.lines.Line2D at 0x7fc1266b7610>]"
      ]
     },
     "execution_count": 7,
     "metadata": {},
     "output_type": "execute_result"
    },
    {
     "data": {
      "image/png": "[encoded data removed]",
      "text/plain": [
       "<Figure size 640x480 with 1 Axes>"
      ]
     },
     "metadata": {},
     "output_type": "display_data"
    }
   ],
   "source": [
    "eigvals2, eigvecs2 = eigsh(hamiltonian2, k=16, which=\"SA\")\n",
    "\n",
    "plt.figure(\"energy-restricted\")\n",
    "plt.title(\"Energy Levels\")\n",
    "plt.xlabel(\"Level Number\")\n",
    "plt.ylabel(\"Energy\")\n",
    "plt.plot(eigvals2, \"x\")"
   ]
  },
  {
   "cell_type": "markdown",
   "id": "14",
   "metadata": {},
   "source": [
    "## Combining Expressions\n",
    "\n",
    "Next, we want to consider a slightly more complicated example.\n",
    "Assume that the spin system that we have defined at the beginning of\n",
    "this chapter is exposed to a magnetic field in direction of the $z$-axis.\n",
    "More precisely, we want to consider the Hamiltonian that is given by\n",
    "\n",
    "$$\n",
    "  \\hat{H} =\n",
    "    - B \\sum_{J = 0}^{M-1} \\hat{S}^z_j\n",
    "    + J \\sum_{j = 0}^{M-2} \\hat{\\mathbf{S}}_j \\cdot\n",
    "      \\hat{\\mathbf{S}}_{j+1}\n",
    "  \\,.\n",
    "$$\n",
    "\n",
    "If we wanted, we could build the entire Hamiltonian using Struqture.\n",
    "There is, however, an easier way. Quantum Solver has already a definition\n",
    "of the magnetic-field term, namely the\n",
    "[magnetic_field_z](https://docs.cloud.quantumsimulations.de/hqs-quantum-solvers/reference/generated/hqs_quantum_solver.spins.html#hqs_quantum_solver.spins.magnetic_field_z) function.\n",
    "Furthermore, Quantum Solver allows building of arbitrary linear combination\n",
    "of Quantum Solver expressions. Hence, we can combine the\n",
    "Struqture definition of the spin interaction with the\n",
    "[magnetic_field_z](https://docs.cloud.quantumsimulations.de/hqs-quantum-solvers/reference/generated/hqs_quantum_solver.spins.html#hqs_quantum_solver.spins.magnetic_field_z) function,\n",
    "which is shown below."
   ]
  },
  {
   "cell_type": "code",
   "execution_count": 8,
   "id": "15",
   "metadata": {},
   "outputs": [],
   "source": [
    "hamiltonian3 = Operator(\n",
    "    magnetic_field_z(coef=B * np.ones(v.sites)) + struqture_term(interaction),\n",
    "    domain=w\n",
    ")"
   ]
  },
  {
   "cell_type": "markdown",
   "id": "16",
   "metadata": {},
   "source": [
    "Then, again, we can compute the energy levels and plot them."
   ]
  },
  {
   "cell_type": "code",
   "execution_count": 9,
   "id": "17",
   "metadata": {},
   "outputs": [
    {
     "data": {
      "image/png": "[encoded data removed]",
      "text/plain": [
       "<Figure size 640x480 with 1 Axes>"
      ]
     },
     "metadata": {},
     "output_type": "display_data"
    }
   ],
   "source": [
    "eigvals3, eigvecs3 = eigsh(hamiltonian3, k=16, which=\"SA\")\n",
    "\n",
    "plt.figure(\"energy-with-field\")\n",
    "plt.title(\"Energy Levels with Magnetic Field\")\n",
    "plt.xlabel(\"Level Number\")\n",
    "plt.ylabel(\"Energy\")\n",
    "plt.plot(eigvals3, \"x\")\n",
    "\n",
    "plt.show()"
   ]
  },
  {
   "cell_type": "markdown",
   "id": "18",
   "metadata": {},
   "source": [
    "## Complete Code\n",
    "\n",
    "```python\n",
    "# Title    : Using Struqture with HQS Quantum Solver\n",
    "# Filename : struqture.py\n",
    "\n",
    "# ===== Imports and Parameters =====\n",
    "\n",
    "import numpy as np\n",
    "import matplotlib.pyplot as plt\n",
    "from scipy.sparse.linalg import eigsh\n",
    "\n",
    "from struqture_py import PauliHamiltonian\n",
    "\n",
    "from hqs_quantum_solver.spins import (\n",
    "    VectorSpace, Operator, magnetic_field_z, struqture_term\n",
    ")\n",
    "\n",
    "M = 8    # number of sites/spins\n",
    "J = 1.0  # interaction strength\n",
    "B = 3.0  # magnetic field strength (will be introduced later)\n",
    "\n",
    "# ===== Struqture Definition of the System =====\n",
    "\n",
    "interaction = PauliHamiltonian()\n",
    "\n",
    "for j in range(M - 1):\n",
    "    interaction.add_operator_product(f\"{j}X{j+1}X\", 0.25 * J)\n",
    "    interaction.add_operator_product(f\"{j}Y{j+1}Y\", 0.25 * J)\n",
    "    interaction.add_operator_product(f\"{j}Z{j+1}Z\", 0.25 * J)\n",
    "\n",
    "print(interaction)\n",
    "\n",
    "# ===== Creating the Operator =====\n",
    "\n",
    "v = VectorSpace(sites=interaction.current_number_spins(), total_spin_z=\"all\")\n",
    "hamiltonian = Operator(struqture_term(interaction), domain=v)\n",
    "\n",
    "eigvals, eigvecs = eigsh(hamiltonian, k=16, which=\"SA\")\n",
    "\n",
    "plt.figure(\"energy\")\n",
    "plt.title(\"Energy Levels\")\n",
    "plt.xlabel(\"Level Number\")\n",
    "plt.ylabel(\"Energy\")\n",
    "plt.plot(eigvals, \"x\")\n",
    "\n",
    "# ===== Restricted Sz =====\n",
    "\n",
    "w = VectorSpace(sites=interaction.current_number_spins(), total_spin_z=0)\n",
    "hamiltonian2 = Operator(struqture_term(interaction), domain=w)\n",
    "\n",
    "eigvals2, eigvecs2 = eigsh(hamiltonian2, k=16, which=\"SA\")\n",
    "\n",
    "plt.figure(\"energy-restricted\")\n",
    "plt.title(\"Energy Levels\")\n",
    "plt.xlabel(\"Level Number\")\n",
    "plt.ylabel(\"Energy\")\n",
    "plt.plot(eigvals2, \"x\")\n",
    "\n",
    "# ===== Combining Expressions =====\n",
    "\n",
    "hamiltonian3 = Operator(\n",
    "    magnetic_field_z(coef=B * np.ones(v.sites)) + struqture_term(interaction),\n",
    "    domain=w\n",
    ")\n",
    "\n",
    "eigvals3, eigvecs3 = eigsh(hamiltonian3, k=16, which=\"SA\")\n",
    "\n",
    "plt.figure(\"energy-with-field\")\n",
    "plt.title(\"Energy Levels with Magnetic Field\")\n",
    "plt.xlabel(\"Level Number\")\n",
    "plt.ylabel(\"Energy\")\n",
    "plt.plot(eigvals3, \"x\")\n",
    "\n",
    "plt.show()\n",
    "```"
   ]
  }
 ],
 "metadata": {
  "jupytext": {
   "default_lexer": "python",
   "notebook_metadata_filter": "-all"
  },
  "kernelspec": {
   "display_name": "Python 3 (ipykernel)",
   "language": "python",
   "name": "python3"
  },
  "language_info": {
   "codemirror_mode": {
    "name": "ipython",
    "version": 3
   },
   "file_extension": ".py",
   "mimetype": "text/x-python",
   "name": "python",
   "nbconvert_exporter": "python",
   "pygments_lexer": "ipython3",
   "version": "3.13.3"
  }
 },
 "nbformat": 4,
 "nbformat_minor": 5
}
