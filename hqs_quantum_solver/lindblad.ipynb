{
 "cells": [
  {
   "cell_type": "markdown",
   "id": "0",
   "metadata": {},
   "source": [
    "# Lindblad Simulation\n",
    "\n",
    "In this guide you will learn how to create a simulation of the\n",
    "Lindblad equation, which is given by\n",
    "$$\n",
    "\\newcommand{\\iu}{\\mathrm{i}}\n",
    "        \\iu \\hbar \\dot\\rho(t) = \\hat{\\mathcal{L}}\\rho(t) \\,,\n",
    "$$\n",
    "where $\\hat{\\mathcal{L}}$ is the *Lindbladian* with\n",
    "$$\n",
    "\\newcommand{\\iu}{\\mathrm{i}}\n",
    "\\begin{aligned}\n",
    "  \\hat{\\mathcal{L}}\\rho\n",
    "    = [\\hat{H}, \\rho]\n",
    "    &+\n",
    "    \\iu \\hbar \\sum_{i=0}^{M-1} \\sum_{j=0}^{M-1} \\gamma_{ij}^z\n",
    "    \\big(\n",
    "        \\hat{S}^z_i \\rho \\hat{S}^z_j \n",
    "        - \\tfrac12 \\hat{S}^z_j \\hat{S}^z_i \\rho\n",
    "        - \\tfrac12 \\rho \\hat{S}^z_j \\hat{S}^z_i\n",
    "    \\big) \\\\\\    &+\n",
    "    \\iu \\hbar \\sum_{i=0}^{M-1} \\sum_{j=0}^{M-1} \\gamma_{ij}^+\n",
    "    \\big(\n",
    "        \\hat{S}^+_i \\rho \\hat{S}^-_j\n",
    "        - \\tfrac12 \\hat{S}^-_j \\hat{S}^+_i \\rho\n",
    "        - \\tfrac12 \\rho \\hat{S}^-_j \\hat{S}^+_i\n",
    "    \\big) \\\\\\    &+\n",
    "    \\iu \\hbar \\sum_{i=0}^{M-1} \\sum_{j=0}^{M-1} \\gamma_{ij}^-\n",
    "    \\big(\n",
    "        \\hat{S}^-_i \\rho \\hat{S}^+_j\n",
    "        - \\tfrac12 \\hat{S}^+_j \\hat{S}^-_i \\rho\n",
    "        - \\tfrac12 \\rho \\hat{S}^+_j \\hat{S}^-_i\n",
    "    \\big)\n",
    "    \\,.\n",
    "\\end{aligned}\n",
    "$$\n",
    "Here, $\\hat{H}$ is a Hamiltonian of a spin system. For this guide, we\n",
    "choose the Hamiltonian of the Heisenberg spin chain, i.e.,\n",
    "$$\n",
    "  \\hat{H} = J \\sum_{j=0}^{M-2}\n",
    "    \\hat{\\mathbf{S}}_j \\cdot \\hat{\\mathbf{S}}_{j+1}\n",
    "  \\,.\n",
    "$$\n",
    "\n",
    "## Imports and Parameters\n",
    "\n",
    "Throughout this guide, we will make use of the following imports."
   ]
  },
  {
   "cell_type": "code",
   "execution_count": null,
   "id": "1",
   "metadata": {},
   "outputs": [],
   "source": [
    "import matplotlib.pyplot as plt\n",
    "import numpy as np\n",
    "import numpy.random\n",
    "from matplotlib import animation\n",
    "from scipy.linalg import toeplitz\n",
    "\n",
    "from hqs_quantum_solver.spins import (\n",
    "    VectorSpace, Operator, SpinState, isotropic_interaction)\n",
    "from hqs_quantum_solver.util import unit_vector\n",
    "from hqs_quantum_solver.lindblad import Lindbladian\n",
    "from hqs_quantum_solver.evolution import evolve_krylov, observers"
   ]
  },
  {
   "cell_type": "markdown",
   "id": "2",
   "metadata": {},
   "source": [
    "Furthermore, we make use of the parameters as shown below."
   ]
  },
  {
   "cell_type": "code",
   "execution_count": null,
   "id": "3",
   "metadata": {},
   "outputs": [],
   "source": [
    "n_spins = 6  # The number of spins.\n",
    "t_end = 10   # The duration of the simulation.\n",
    "J = 1        # The interaction strength."
   ]
  },
  {
   "cell_type": "markdown",
   "id": "4",
   "metadata": {},
   "source": [
    "## Hamiltonian and Lindblad\n",
    "\n",
    "To construct the Lindbladian, we first have to define the vector space that\n",
    "we are using, then construct the Hamiltonian, and then combine the two to\n",
    "obtain the Lindblad operator. We start with the vector space.\n",
    "\n",
    "The vector space is defined by creating a\n",
    "[VectorSpace](https://docs.cloud.quantumsimulations.de/hqs-quantum-solvers/reference/generated/hqs_quantum_solver.spins.html#hqs_quantum_solver.spins.VectorSpace) object from the\n",
    "[spins](https://docs.cloud.quantumsimulations.de/hqs-quantum-solvers/reference/generated/hqs_quantum_solver.spins.html) module.\n",
    "The vector spaces we use in quantum mechanics are defined by the\n",
    "states they represent. Thus, to construct the\n",
    "[VectorSpace](https://docs.cloud.quantumsimulations.de/hqs-quantum-solvers/reference/generated/hqs_quantum_solver.spins.html#hqs_quantum_solver.spins.VectorSpace) object, we have to describe\n",
    "the states of the system. First, we give the `sites` argument to\n",
    "specify the number of spins in the system. Second, we give the\n",
    "`total_spin_z` argument, which can be used to only include the states with\n",
    "a given total spin polarization. Since we do not want to restrict the\n",
    "total spin, we provide `\"all\"` as an argument."
   ]
  },
  {
   "cell_type": "code",
   "execution_count": null,
   "id": "5",
   "metadata": {},
   "outputs": [],
   "source": [
    "v = VectorSpace(sites=n_spins, total_spin_z=\"all\")"
   ]
  },
  {
   "cell_type": "markdown",
   "id": "6",
   "metadata": {},
   "source": [
    "To construct a spin operator in HQS Quantum Solver, we need to pass an\n",
    "expression that describes the operator to the constructor of the\n",
    "[Operator](https://docs.cloud.quantumsimulations.de/hqs-quantum-solvers/reference/generated/hqs_quantum_solver.spins.html#hqs_quantum_solver.spins.Operator) class.\n",
    "We use the\n",
    "[isotropic_interaction](https://docs.cloud.quantumsimulations.de/hqs-quantum-solvers/reference/generated/hqs_quantum_solver.spins.html#hqs_quantum_solver.spins.isotropic_interaction) function to\n",
    "obtain the desired expression. This function takes a matrix, where the\n",
    "entry at index $(j, k)$ determines the interaction strength of site $j$ to\n",
    "site $k$ and vice versa.\n",
    "By providing a matrix where the first upper off-diagonal is set to a\n",
    "constant value and the remaining entries set to zero, we obtain the\n",
    "desired spin chain model."
   ]
  },
  {
   "cell_type": "code",
   "execution_count": null,
   "id": "7",
   "metadata": {},
   "outputs": [],
   "source": [
    "coef = J * toeplitz(np.zeros(v.sites), unit_vector(v.sites, 1))\n",
    "H = Operator(isotropic_interaction(coef), domain=v, dtype=complex)"
   ]
  },
  {
   "cell_type": "markdown",
   "id": "8",
   "metadata": {},
   "source": [
    "Next, we need to set up the coefficient matrices $\\gamma^z$, $\\gamma^+$,\n",
    "and $\\gamma^-$. For this example, we choose these matrices as random,\n",
    "positive definite matrices.\n",
    "Once the matrices are constructed, we pass them together with the\n",
    "Hamiltonian to the constructor of the\n",
    "[Lindbladian](https://docs.cloud.quantumsimulations.de/hqs-quantum-solvers/reference/generated/hqs_quantum_solver.lindblad.html#hqs_quantum_solver.lindblad.Lindbladian) class, giving us the\n",
    "desired Lindblad operator."
   ]
  },
  {
   "cell_type": "code",
   "execution_count": null,
   "id": "9",
   "metadata": {},
   "outputs": [],
   "source": [
    "rng = numpy.random.default_rng(1234)\n",
    "\n",
    "def random_positive_definite(low, high, shape):\n",
    "    r = rng.uniform(low, high, shape)\n",
    "    return r.T.conj() @ r\n",
    "\n",
    "gamma_z = random_positive_definite(0, 0.3, (v.sites, v.sites))\n",
    "gamma_p = random_positive_definite(0, 0.2, (v.sites, v.sites))\n",
    "gamma_m = random_positive_definite(0, 0.1, (v.sites, v.sites))\n",
    "\n",
    "L = Lindbladian(H, gamma_z, gamma_p, gamma_m)"
   ]
  },
  {
   "cell_type": "markdown",
   "id": "10",
   "metadata": {},
   "source": [
    "## Initial State\n",
    "\n",
    "Before we can simulate the time evolution, we need to define the\n",
    "initial state of the simulation. We choose\n",
    "$\\rho = \\psi \\psi^\\dagger$ where\n",
    "$\\psi = \\ket{ \\uparrow \\downarrow \\downarrow \\cdots \\downarrow }$.\n",
    "The vector $\\psi$ is constructed by calling the\n",
    "[fock_state](https://docs.cloud.quantumsimulations.de/hqs-quantum-solvers/reference/generated/hqs_quantum_solver.spins.html#hqs_quantum_solver.spins.VectorSpace.fock_state) function with\n",
    "a list containing `SpinState.UP` followed by multiple `SpinState.DOWN`\n",
    "entries."
   ]
  },
  {
   "cell_type": "code",
   "execution_count": null,
   "id": "11",
   "metadata": {},
   "outputs": [],
   "source": [
    "state = v.fock_state([SpinState.UP] + [SpinState.DOWN] * (n_spins-1))\n",
    "rho = state[:,np.newaxis] @ state[:,np.newaxis].T.conj()"
   ]
  },
  {
   "cell_type": "markdown",
   "id": "12",
   "metadata": {},
   "source": [
    "## Time Evolution\n",
    "\n",
    "We can finally perform the actual time evolution of the system.\n",
    "The form of the Lindblad equation listed at the beginning is compatible\n",
    "with the regular time-stepping functions provided by Quantum Solver.\n",
    "Here, we want to use the\n",
    "[evolve_krylov](https://docs.cloud.quantumsimulations.de/hqs-quantum-solvers/reference/generated/hqs_quantum_solver.evolution.html#hqs_quantum_solver.evolution.evolve_krylov) function.\n",
    "We provide the operator, the initial state, and a list of time points at\n",
    "which to evaluate the state of the system. Note, that internally a\n",
    "step-size is chosen that guarantees the desired accuracy. The time points\n",
    "are only used for the evaluation.\n",
    "Furthermore, by passing `observer=observers.state()` we instruct the method to\n",
    "record the full state at each time point. Finally, we provide a\n",
    "progress callback that displays the current state of the simulation\n",
    "while the simulation is in progress."
   ]
  },
  {
   "cell_type": "code",
   "execution_count": null,
   "id": "13",
   "metadata": {},
   "outputs": [],
   "source": [
    "timesteps = np.linspace(0, t_end)\n",
    "\n",
    "def progress(t):\n",
    "    print(f\"t = {t:7.2f}\", end=\"\\r\", flush=True)\n",
    "\n",
    "result = evolve_krylov(\n",
    "    L, rho, timesteps, observer=observers.state(), progress=progress)\n",
    "\n",
    "print()"
   ]
  },
  {
   "cell_type": "markdown",
   "id": "14",
   "metadata": {},
   "source": [
    "The state $\\rho(t)$ of the system for each time point in `timesteps` is now\n",
    "stored in `result.observations` as a list. We can use Matplotlib to\n",
    "create an animation."
   ]
  },
  {
   "cell_type": "code",
   "execution_count": null,
   "id": "15",
   "metadata": {},
   "outputs": [],
   "source": [
    "fig, ax = plt.subplots()\n",
    "image = ax.imshow(np.abs(result.observations[0]), cmap='magma_r', vmin=0, vmax=1)\n",
    "plt.colorbar(image)\n",
    "\n",
    "def update(frame):\n",
    "    ax.set_title(f'State density at $t = {timesteps[frame]:.2f}$')\n",
    "    image.set_data(np.abs(result.observations[frame]))\n",
    "    return [image]\n",
    "\n",
    "ani = animation.FuncAnimation(fig, update, frames=len(result.observations))\n",
    "\n",
    "from IPython.display import HTML\n",
    "HTML(ani.to_jshtml())"
   ]
  },
  {
   "cell_type": "markdown",
   "id": "16",
   "metadata": {},
   "source": [
    "## Complete Code\n",
    "\n",
    "```python\n",
    "# Title    : HQS Quantum Solver Linblad Solver\n",
    "# Filename : lindblad.py\n",
    "\n",
    "# ===== Imports =====\n",
    "\n",
    "import matplotlib.pyplot as plt\n",
    "import numpy as np\n",
    "import numpy.random\n",
    "from matplotlib import animation\n",
    "from scipy.linalg import toeplitz\n",
    "\n",
    "from hqs_quantum_solver.spins import (\n",
    "    VectorSpace, Operator, SpinState, isotropic_interaction)\n",
    "from hqs_quantum_solver.util import unit_vector\n",
    "from hqs_quantum_solver.lindblad import Lindbladian\n",
    "from hqs_quantum_solver.evolution import evolve_krylov, observers\n",
    "\n",
    "# ===== Parameters =====\n",
    "\n",
    "n_spins = 6  # The number of spins.\n",
    "t_end = 10   # The duration of the simulation.\n",
    "J = 1        # The interaction strength.\n",
    "\n",
    "# ===== Constructing the Lindbladian =====\n",
    "\n",
    "v = VectorSpace(sites=n_spins, total_spin_z=\"all\")\n",
    "\n",
    "coef = J * toeplitz(np.zeros(v.sites), unit_vector(v.sites, 1))\n",
    "H = Operator(isotropic_interaction(coef), domain=v, dtype=complex)\n",
    "\n",
    "rng = numpy.random.default_rng(1234)\n",
    "\n",
    "def random_positive_definite(low, high, shape):\n",
    "    r = rng.uniform(low, high, shape)\n",
    "    return r.T.conj() @ r\n",
    "\n",
    "gamma_z = random_positive_definite(0, 0.3, (v.sites, v.sites))\n",
    "gamma_p = random_positive_definite(0, 0.2, (v.sites, v.sites))\n",
    "gamma_m = random_positive_definite(0, 0.1, (v.sites, v.sites))\n",
    "\n",
    "L = Lindbladian(H, gamma_z, gamma_p, gamma_m)\n",
    "\n",
    "# ===== Initial State =====\n",
    "\n",
    "state = v.fock_state([SpinState.UP] + [SpinState.DOWN] * (n_spins-1))\n",
    "rho = state[:,np.newaxis] @ state[:,np.newaxis].T.conj()\n",
    "\n",
    "# ===== Time Evolution =====\n",
    "\n",
    "timesteps = np.linspace(0, t_end)\n",
    "\n",
    "def progress(t):\n",
    "    print(f\"t = {t:7.2f}\", end=\"\\r\", flush=True)\n",
    "\n",
    "result = evolve_krylov(\n",
    "    L, rho, timesteps, observer=observers.state(), progress=progress)\n",
    "\n",
    "print()\n",
    "\n",
    "# ===== Visualization =====\n",
    "\n",
    "fig, ax = plt.subplots()\n",
    "image = ax.imshow(np.abs(result.observations[0]), cmap='magma_r', vmin=0, vmax=1)\n",
    "plt.colorbar(image)\n",
    "\n",
    "def update(frame):\n",
    "    ax.set_title(f'State density at $t = {timesteps[frame]:.2f}$')\n",
    "    image.set_data(np.abs(result.observations[frame]))\n",
    "    return [image]\n",
    "\n",
    "ani = animation.FuncAnimation(fig, update, frames=len(result.observations))\n",
    "plt.show()\n",
    "```"
   ]
  }
 ],
 "metadata": {
  "jupytext": {
   "default_lexer": "python",
   "notebook_metadata_filter": "-all"
  }
 },
 "nbformat": 4,
 "nbformat_minor": 5
}
