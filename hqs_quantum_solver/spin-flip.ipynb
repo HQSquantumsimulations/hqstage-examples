{
 "cells": [
  {
   "cell_type": "markdown",
   "id": "0",
   "metadata": {},
   "source": [
    "# Spin-Flip Simulation\n",
    "\n",
    "In this guide, you will learn how to load the Hamiltonian of a spin system,\n",
    "compute the energy levels of the Hamiltonian, and simulate the evolution\n",
    "of the corresponding system in time.\n",
    "We will use the Hamiltonian describing Acrylonitride\n",
    "($\\mathrm{C}_2 \\mathrm{H}_3 \\mathrm{CN}$) in a magnetic field, as you\n",
    "would encounter, e.g., in an NMR spectrometer.\n",
    "\n",
    "First, we need to import the functions, classes and modules that are required\n",
    "for the script. Therefore, we create a Python script and add the following\n",
    "imports to our file, which we will explain, as we go along."
   ]
  },
  {
   "cell_type": "code",
   "execution_count": null,
   "id": "1",
   "metadata": {},
   "outputs": [],
   "source": [
    "# Title    : HQS Quantum Solver Spin Flip Simulation\n",
    "# Filename : spin_flip.py\n",
    "from pathlib import Path\n",
    "\n",
    "import numpy as np\n",
    "import matplotlib.pyplot as plt\n",
    "from scipy.sparse.linalg import eigsh\n",
    "\n",
    "from struqture_py.spins import PauliHamiltonian\n",
    "\n",
    "from hqs_quantum_solver.spins import (\n",
    "    VectorSpace, Operator, lowering, struqture_term, spin_z, raising\n",
    ")\n",
    "from hqs_quantum_solver.evolution import evolve_krylov, observers"
   ]
  },
  {
   "cell_type": "markdown",
   "id": "2",
   "metadata": {},
   "source": [
    "Next, we load the Hamiltonian description from a file in\n",
    "Struqture format.\n",
    "[Struqture](https://github.com/HQSquantumsimulations/struqture) is\n",
    "a library providing an exchage format for quantum operators.\n",
    "(See the \"[Struqture](struqture.md)\" section for more information about\n",
    "using Struqture with Quantum Solver.)\n",
    "We have to store the file [acrylonitride.json](spin-flip/acrylonitride.json)\n",
    "(right click, \"Save As...\"), which contains the description of the\n",
    "Hamiltonian, in the same directory as the Python script.\n",
    "Afterwards, we can load it as follows."
   ]
  },
  {
   "cell_type": "code",
   "execution_count": null,
   "id": "3",
   "metadata": {},
   "outputs": [],
   "source": [
    "filepath = Path(\"acrylonitride.json\")\n",
    "hamiltonian_info = PauliHamiltonian().from_json(filepath.read_text())"
   ]
  },
  {
   "cell_type": "markdown",
   "id": "4",
   "metadata": {},
   "source": [
    "So far, we have only loaded a description of a Hamiltonian. To use it,\n",
    "we need to turn it into an actual Operator that, e.g., can be applied\n",
    "to a state vector. In addition to the definition of the operator,\n",
    "Quantum Solver needs the vector space that the operator is defined on.\n",
    "Since we are dealing with a spin system, we create a\n",
    "[VectorSpace](https://docs.cloud.quantumsimulations.de/hqs-quantum-solvers/reference/generated/hqs_quantum_solver.spins.html#hqs_quantum_solver.spins.VectorSpace) object from the\n",
    "[spins](https://docs.cloud.quantumsimulations.de/hqs-quantum-solvers/reference/generated/hqs_quantum_solver.spins.html) module.\n",
    "Vector spaces, as used in quantum mechanics, are defined by the states\n",
    "they represent. The states of the system are defined by the\n",
    "`sites` and the `total_spin_z` arguments. The former sets the number of\n",
    "spins in the system, and the latter can be used to only include states\n",
    "with a given total spin polarization. Since we want to include all\n",
    "states, we set `total_spin_z` to `\"all\"`."
   ]
  },
  {
   "cell_type": "code",
   "execution_count": null,
   "id": "5",
   "metadata": {},
   "outputs": [],
   "source": [
    "v = VectorSpace(sites=hamiltonian_info.current_number_spins(), total_spin_z=\"all\")"
   ]
  },
  {
   "cell_type": "markdown",
   "id": "6",
   "metadata": {},
   "source": [
    "Having constructed the vector space, we can now create the Hamiltonian\n",
    "as an instance of type\n",
    "[Operator](https://docs.cloud.quantumsimulations.de/hqs-quantum-solvers/reference/generated/hqs_quantum_solver.spins.html#hqs_quantum_solver.spins.Operator)."
   ]
  },
  {
   "cell_type": "code",
   "execution_count": null,
   "id": "7",
   "metadata": {},
   "outputs": [],
   "source": [
    "hamiltonian = Operator(struqture_term(hamiltonian_info), domain=v, dtype=complex)"
   ]
  },
  {
   "cell_type": "markdown",
   "id": "8",
   "metadata": {},
   "source": [
    "Herein, we used the [struqture_term](https://docs.cloud.quantumsimulations.de/hqs-quantum-solvers/reference/generated/hqs_quantum_solver.spins.html#hqs_quantum_solver.spins.struqture_term)\n",
    "function to tell Quantum Solver that the input is in Struqture format.\n",
    "Furthermore, we enforced the construction of a complex-valued operator\n",
    "by setting `dtype` to `complex`. (Setting `dtype` is optional,\n",
    "but since we want to compute a time evolution of the system, which requires\n",
    "complex state vectors, having a complex operator yields better performance.)\n",
    "\n",
    "We can now obtain the energy levels of the system by computing the\n",
    "eigenvalues of the operator. The\n",
    "[Operator](https://docs.cloud.quantumsimulations.de/hqs-quantum-solvers/reference/generated/hqs_quantum_solver.spins.html#hqs_quantum_solver.spins.Operator) class is compatible to\n",
    "SciPy, such that we can directly call the\n",
    "[eigsh](https://docs.scipy.org/doc/scipy/reference/generated/scipy.sparse.linalg.eigsh.html#scipy.sparse.linalg.eigsh) on the operator, and then use\n",
    "[Matplotlib](https://matplotlib.org/) to plot the result.\n",
    "(Note that the [eigsh](https://docs.scipy.org/doc/scipy/reference/generated/scipy.sparse.linalg.eigsh.html#scipy.sparse.linalg.eigsh) function does not\n",
    "return the eigenvalues in a sorted order when the operator is complex.)"
   ]
  },
  {
   "cell_type": "code",
   "execution_count": null,
   "id": "9",
   "metadata": {},
   "outputs": [],
   "source": [
    "eigvals, eigvecs = eigsh(hamiltonian, k=6, which=\"SA\")\n",
    "sorted_indices = np.argsort(eigvals)\n",
    "\n",
    "plt.figure(\"energy-levels\")\n",
    "plt.title(\"Energy Levels of Acrylonitride\")\n",
    "plt.xlabel(\"Level Number\")\n",
    "plt.ylabel(\"Energy\")\n",
    "plt.plot(eigvals[sorted_indices], \"x\")"
   ]
  },
  {
   "cell_type": "markdown",
   "id": "10",
   "metadata": {},
   "source": [
    "Running the script up to this point should result in an image as shown\n",
    "below.\n",
    "\n",
    "\n",
    "We shall now turn to the simulation of the time evolution of the system\n",
    "described by the Hamiltonian. The first thing that we need is to setup\n",
    "the initial wave function of the system. For that, we want to take the\n",
    "groundstate of the system and flip one of the spins.\n",
    "Flipping the $j$th spin is done by applying the operator\n",
    "$(\\hat{S}_j^+ + \\hat{S}_j^-)$, which needs to be built first.\n",
    "\n",
    "Quantum Solver has a selection of high-level functions that can be used to\n",
    "describe operators. For our purpose we use the\n",
    "[raising](https://docs.cloud.quantumsimulations.de/hqs-quantum-solvers/reference/generated/hqs_quantum_solver.spins.html#hqs_quantum_solver.spins.raising) and\n",
    "[lowering](https://docs.cloud.quantumsimulations.de/hqs-quantum-solvers/reference/generated/hqs_quantum_solver.spins.html#hqs_quantum_solver.spins.lowering) functions, which\n",
    "describe the $\\hat{S}^+$ and $\\hat{S}^-$ operator, respectively.\n",
    "Since Quantum Solver allows for building of arbitrary linear combinations\n",
    "of those operator descriptions, we can build the desired spin-flip\n",
    "operator for the site with index 2 as follows."
   ]
  },
  {
   "cell_type": "code",
   "execution_count": null,
   "id": "11",
   "metadata": {},
   "outputs": [],
   "source": [
    "flip = Operator(raising(site=2) + lowering(site=2), domain=v, dtype=complex)"
   ]
  },
  {
   "cell_type": "markdown",
   "id": "12",
   "metadata": {},
   "source": [
    "The spin-flip operator can be applied to a wave function by using the `.dot`\n",
    "method of the operator."
   ]
  },
  {
   "cell_type": "code",
   "execution_count": null,
   "id": "13",
   "metadata": {},
   "outputs": [],
   "source": [
    "groundstate = eigvecs[:, sorted_indices[0]]\n",
    "initial_wavefunction = flip.dot(groundstate)"
   ]
  },
  {
   "cell_type": "markdown",
   "id": "14",
   "metadata": {},
   "source": [
    "Since inspecting the wave function directly is usually not very insightful,\n",
    "we need to perform an additional step, before we run a time simulation.\n",
    "We want to look at the expectation value of observables,\n",
    "in this case the spin polarizations $\\hat{S}^z_j$\n",
    "for all sites of the system.\n",
    "The operator $\\hat{S}^z_j$ is described by the\n",
    "[spin_z](https://docs.cloud.quantumsimulations.de/hqs-quantum-solvers/reference/generated/hqs_quantum_solver.spins.html#hqs_quantum_solver.spins.spin_z) function, and we can create\n",
    "a list of all desired observables in the following way."
   ]
  },
  {
   "cell_type": "code",
   "execution_count": null,
   "id": "15",
   "metadata": {},
   "outputs": [],
   "source": [
    "observables = [\n",
    "    Operator(spin_z(site=j), domain=v, dtype=complex) for j in range(v.sites)\n",
    "]"
   ]
  },
  {
   "cell_type": "markdown",
   "id": "16",
   "metadata": {},
   "source": [
    "With the observables at hand, we can now create an list containing the\n",
    "time values at which we want to evaluate the wave function,\n",
    "call the [evolve_krylov](https://docs.cloud.quantumsimulations.de/hqs-quantum-solvers/reference/generated/hqs_quantum_solver.evolution.html#hqs_quantum_solver.evolution.evolve_krylov)\n",
    "function to perform the simulation, and then stack the list of observations\n",
    "into a single NumPy array."
   ]
  },
  {
   "cell_type": "code",
   "execution_count": null,
   "id": "17",
   "metadata": {},
   "outputs": [],
   "source": [
    "ts = np.linspace(0, 1e-1, 100)\n",
    "result = evolve_krylov(\n",
    "    hamiltonian, initial_wavefunction, ts,\n",
    "    observer=observers.expectation(observables)\n",
    ")\n",
    "observations = np.stack(result.observations)"
   ]
  },
  {
   "cell_type": "markdown",
   "id": "18",
   "metadata": {},
   "source": [
    "The result can then be visualized using the code below."
   ]
  },
  {
   "cell_type": "code",
   "execution_count": null,
   "id": "19",
   "metadata": {},
   "outputs": [],
   "source": [
    "plt.figure(\"time-evolution\")\n",
    "plt.title(\"Time Evolution after Spin Flip\")\n",
    "plt.xlabel(\"$t$\")\n",
    "plt.ylabel(\"Expectation Value\")\n",
    "for j in range(observations.shape[1]):\n",
    "    plt.plot(ts, observations[:, j], label=f\"$\\\\langle \\\\hat{{S}}^z_{j} \\\\rangle$\")\n",
    "plt.legend(loc=\"upper right\")\n",
    "plt.show()"
   ]
  },
  {
   "cell_type": "markdown",
   "id": "20",
   "metadata": {},
   "source": [
    "## Complete Code\n",
    "\n",
    "```python\n",
    "# Title    : HQS Quantum Solver Spin Flip Simulation\n",
    "# Filename : spin_flip.py\n",
    "from pathlib import Path\n",
    "\n",
    "import numpy as np\n",
    "import matplotlib.pyplot as plt\n",
    "from scipy.sparse.linalg import eigsh\n",
    "\n",
    "from struqture_py.spins import PauliHamiltonian\n",
    "\n",
    "from hqs_quantum_solver.spins import (\n",
    "    VectorSpace, Operator, lowering, struqture_term, spin_z, raising\n",
    ")\n",
    "from hqs_quantum_solver.evolution import evolve_krylov, observers\n",
    "\n",
    "# ===== Loading and Building the Hamiltonian =====\n",
    "\n",
    "filepath = Path(\"acrylonitride.json\")\n",
    "hamiltonian_info = PauliHamiltonian().from_json(filepath.read_text())\n",
    "\n",
    "v = VectorSpace(sites=hamiltonian_info.current_number_spins(), total_spin_z=\"all\")\n",
    "hamiltonian = Operator(struqture_term(hamiltonian_info), domain=v, dtype=complex)\n",
    "\n",
    "# ===== Energy Levels =====\n",
    "\n",
    "eigvals, eigvecs = eigsh(hamiltonian, k=6, which=\"SA\")\n",
    "sorted_indices = np.argsort(eigvals)\n",
    "\n",
    "plt.figure(\"energy-levels\")\n",
    "plt.title(\"Energy Levels of Acrylonitride\")\n",
    "plt.xlabel(\"Level Number\")\n",
    "plt.ylabel(\"Energy\")\n",
    "plt.plot(eigvals[sorted_indices], \"x\")\n",
    "\n",
    "# ===== Spin Flip =====\n",
    "\n",
    "flip = Operator(raising(site=2) + lowering(site=2), domain=v, dtype=complex)\n",
    "\n",
    "groundstate = eigvecs[:, sorted_indices[0]]\n",
    "initial_wavefunction = flip.dot(groundstate)\n",
    "\n",
    "# ===== Time Evolution =====\n",
    "\n",
    "observables = [\n",
    "    Operator(spin_z(site=j), domain=v, dtype=complex) for j in range(v.sites)\n",
    "]\n",
    "\n",
    "ts = np.linspace(0, 1e-1, 100)\n",
    "result = evolve_krylov(\n",
    "    hamiltonian, initial_wavefunction, ts,\n",
    "    observer=observers.expectation(observables)\n",
    ")\n",
    "observations = np.stack(result.observations)\n",
    "\n",
    "plt.figure(\"time-evolution\")\n",
    "plt.title(\"Time Evolution after Spin Flip\")\n",
    "plt.xlabel(\"$t$\")\n",
    "plt.ylabel(\"Expectation Value\")\n",
    "for j in range(observations.shape[1]):\n",
    "    plt.plot(ts, observations[:, j], label=f\"$\\\\langle \\\\hat{{S}}^z_{j} \\\\rangle$\")\n",
    "plt.legend(loc=\"upper right\")\n",
    "plt.show()\n",
    "```"
   ]
  }
 ],
 "metadata": {
  "jupytext": {
   "default_lexer": "python",
   "notebook_metadata_filter": "-all"
  }
 },
 "nbformat": 4,
 "nbformat_minor": 5
}
