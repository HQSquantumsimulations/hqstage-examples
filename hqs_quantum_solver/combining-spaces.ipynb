{
 "cells": [
  {
   "cell_type": "markdown",
   "id": "0",
   "metadata": {},
   "source": [
    "# Combining Vector Spaces\n",
    "\n",
    "In this guide you will learn how to run simulations with a large number of\n",
    "spins by computing on a subspace given by a restricted set of states.\n",
    "To demonstrate this approach, we consider the following spin system.\n",
    "We split the sites into $n_1$ sites that experience a strong\n",
    "interaction and $n_2$ sites that experience a weak interaction, while a\n",
    "magnetic field is acting on all sites. More precisely, we consider the\n",
    "Hamiltonian\n",
    "\n",
    "$$\n",
    "\\hat{H}\n",
    "  = - B \\sum_j \\hat{S}^z_j\n",
    "  + J_\\mathrm{strong}\n",
    "    \\sum_{j=0}^{n_1 - 2} \\hat{\\mathbf{S}}_j \\hat{\\mathbf{S}}_{j+1}\n",
    "  + J_\\mathrm{weak}\n",
    "    \\sum_{j < k} R_{jk} \\, \\hat{\\mathbf{S}}_j \\hat{\\mathbf{S}}_k\n",
    "  \\,,\n",
    "$$\n",
    "where $B, J_\\mathrm{strong}, J_\\mathrm{weak} \\in \\mathbb{R}$ and\n",
    "$R \\in \\mathbb{R}^{n \\times n}$. Furthermore, we choose the entries\n",
    "in the strictly upper triangle of $R$ to be uniformly randomly distributed\n",
    "between $0$ and $1$ and the remaining entries to be zero.\n",
    "\n",
    "The Hamiltonian is defined on the space $V = V_1 \\otimes V_2$,\n",
    "where $V_1$ contains all possible spin states on the first $n_1$ sites and\n",
    "$V_2$ contains the states where at most one spin of the remaining sites is\n",
    "in the $\\uparrow$ state. While the number of states represented by $V_1$\n",
    "grows exponentially with $n_1$, the number of states represented by\n",
    "$V_2$ *only grows linearly* with $n_2$. Thus, we can perform computations\n",
    "with large values for $n_2$.\n",
    "\n",
    "## Imports and Parameters\n",
    "\n",
    "Throughout this guide, we will make use of the following imports."
   ]
  },
  {
   "cell_type": "code",
   "execution_count": 1,
   "id": "1",
   "metadata": {},
   "outputs": [
    {
     "name": "stderr",
     "output_type": "stream",
     "text": [
      "# License check turned off for lattice_functions.\n",
      "# License check turned off for lattice_solver.\n"
     ]
    }
   ],
   "source": [
    "import numpy as np\n",
    "from scipy.sparse.linalg import eigsh\n",
    "import matplotlib.pyplot as plt\n",
    "\n",
    "from hqs_quantum_solver.spins import (\n",
    "    VectorSpace, Operator, magnetic_field_z, isotropic_interaction, spin_z)"
   ]
  },
  {
   "cell_type": "markdown",
   "id": "2",
   "metadata": {},
   "source": [
    "Furthermore, we use the following parameters."
   ]
  },
  {
   "cell_type": "code",
   "execution_count": 2,
   "id": "3",
   "metadata": {},
   "outputs": [],
   "source": [
    "sites_part1 = 12  # Number of sites of the first part\n",
    "sites_part2 = 50  # Number of sites of the second part\n",
    "\n",
    "B = -1.5      # The magnetic field strength\n",
    "J_strong = 1  # The strength of the strong interaction\n",
    "J_weak = 0.2  # The strength of the weak interaction"
   ]
  },
  {
   "cell_type": "markdown",
   "id": "4",
   "metadata": {},
   "source": [
    "## Vector Spaces\n",
    "\n",
    "We want to construct the Hamiltonian $\\hat{H}$ of the system, which\n",
    "requires to define the vector space that the operator is defined on,\n",
    "first.\n",
    "\n",
    "We start by defining the space $V_1$, which we do by constructing a\n",
    "[VectorSpace](https://docs.cloud.quantumsimulations.de/hqs-quantum-solvers/reference/generated/hqs_quantum_solver.spins.html#hqs_quantum_solver.spins.VectorSpace) object from the\n",
    "[spins](https://docs.cloud.quantumsimulations.de/hqs-quantum-solvers/reference/generated/hqs_quantum_solver.spins.html) module. The vector space object is\n",
    "defined by the states that it represents, which are in turn defined by\n",
    "the number of spins in the system (`sites`) and the restriction on the\n",
    "total spin polarization in $z$-direction (`total_spin_z`).\n",
    "Since we do not want to restrict the total spin polarization, we just\n",
    "pass `\"all\"` for this argument."
   ]
  },
  {
   "cell_type": "code",
   "execution_count": 3,
   "id": "5",
   "metadata": {},
   "outputs": [],
   "source": [
    "v1 = VectorSpace(sites=sites_part1, total_spin_z=\"all\")"
   ]
  },
  {
   "cell_type": "markdown",
   "id": "6",
   "metadata": {},
   "source": [
    "To create the space $V_2$, we need to combine two spaces. The first space just\n",
    "represents the state where all spins are in the $\\downarrow$ state, and the\n",
    "second space represents the states where just one spin is in the $\\uparrow$\n",
    "state. The first one is characterized by a total spin polarization of\n",
    "$- \\frac{n_2 \\hbar}{2}$ and the second one by a total spin polarization of\n",
    "$- \\frac{(n_2-2) \\hbar}{2}$.\n",
    "We want a vector space that represents the states represented by both\n",
    "spaces combined. Using the `|`\n",
    "(or the [span](https://docs.cloud.quantumsimulations.de/hqs-quantum-solvers/reference/generated/hqs_quantum_solver.spins.html#hqs_quantum_solver.spins.VectorSpace.span) method)\n",
    "the desired space is constructed from the individual spaces. Note that\n",
    "the total spin is specified in units of $\\tfrac{\\hbar}{2}$."
   ]
  },
  {
   "cell_type": "code",
   "execution_count": 4,
   "id": "7",
   "metadata": {},
   "outputs": [],
   "source": [
    "v2 = (VectorSpace(sites=sites_part2, total_spin_z=-sites_part2)\n",
    "      | VectorSpace(sites=sites_part2, total_spin_z=-sites_part2 + 2))"
   ]
  },
  {
   "cell_type": "markdown",
   "id": "8",
   "metadata": {},
   "source": [
    "Finally, we can use the `*` operator to compute the desired tensor product\n",
    "$V = V_1 \\otimes V_2$."
   ]
  },
  {
   "cell_type": "code",
   "execution_count": 5,
   "id": "9",
   "metadata": {},
   "outputs": [],
   "source": [
    "v = v1 * v2"
   ]
  },
  {
   "cell_type": "markdown",
   "id": "10",
   "metadata": {},
   "source": [
    "The next step is to define the coefficient matrices.\n",
    "\n",
    "## Building Operators\n",
    "\n",
    "Building an operator in Quantum Solver works by calling the constructor\n",
    "of the desired [Operator](https://docs.cloud.quantumsimulations.de/hqs-quantum-solvers/reference/generated/hqs_quantum_solver.spins.html#hqs_quantum_solver.spins.Operator) class with an\n",
    "expression describing the operator and the vector space.\n",
    "\n",
    "The expression describing the magnetic field can be obtained by using\n",
    "the [magnetic_field_z](https://docs.cloud.quantumsimulations.de/hqs-quantum-solvers/reference/generated/hqs_quantum_solver.spins.html#hqs_quantum_solver.spins.magnetic_field_z) function.\n",
    "By providing the `coef` argument, we can specify the magnetic field in\n",
    "$z$-direction per site as a vector. This vector is constructed by the\n",
    "code below."
   ]
  },
  {
   "cell_type": "code",
   "execution_count": 6,
   "id": "11",
   "metadata": {},
   "outputs": [],
   "source": [
    "B_coef = np.full(v.sites, B)"
   ]
  },
  {
   "cell_type": "markdown",
   "id": "12",
   "metadata": {},
   "source": [
    "To define the interaction part of the Hamiltonian, we want to use the\n",
    "[isotropic_interaction](https://docs.cloud.quantumsimulations.de/hqs-quantum-solvers/reference/generated/hqs_quantum_solver.spins.html#hqs_quantum_solver.spins.isotropic_interaction)\n",
    "function, which gives the desired expression when given an appropriate\n",
    "coefficient matrix. Looking at the documentation of the function shows that\n",
    "we can describe the term\n",
    "$$\n",
    "  J_{\\mathrm{strong}}\n",
    "  \\sum_{j=0}^{n_1 - 2} \\hat{\\mathbf{S}}_j \\hat{\\mathbf{S}}_{j+1}\n",
    "$$\n",
    "by providing a matrix where the first $(n_1-2)$ entries of the first upper\n",
    "off-diagonal are set to $J_{\\mathrm{strong}}$ and the remaining entries\n",
    "set to zero. This matrix is constructed as follows."
   ]
  },
  {
   "cell_type": "code",
   "execution_count": 7,
   "id": "13",
   "metadata": {},
   "outputs": [],
   "source": [
    "d1 = np.where(np.arange(v.sites - 1) < v1.sites - 1, 1, 0)\n",
    "J_strong_mat = J_strong * np.diag(d1, 1)"
   ]
  },
  {
   "cell_type": "markdown",
   "id": "14",
   "metadata": {},
   "source": [
    "The second term is represented by a coefficient matrix with random\n",
    "coefficients in $[0, J_\\mathrm{weak}]$."
   ]
  },
  {
   "cell_type": "code",
   "execution_count": 8,
   "id": "15",
   "metadata": {},
   "outputs": [],
   "source": [
    "rng = np.random.default_rng(314159)\n",
    "\n",
    "J_weak_mat = J_weak * np.triu(rng.uniform(0, 1, (v.sites, v.sites)), 1)"
   ]
  },
  {
   "cell_type": "markdown",
   "id": "16",
   "metadata": {},
   "source": [
    "Now, that we have the coefficient matrices, we can build the Hamiltonian.\n",
    "The interaction term, however, maps onto states that are not part of\n",
    "the vector space $V$. Oftentimes, this is an indicator for an error. Hence, we\n",
    "have to pass `strict=False` as an argument to the Operator constructor, to\n",
    "explicitly allow Quantum Solver to drop states not present in the vector\n",
    "space."
   ]
  },
  {
   "cell_type": "code",
   "execution_count": 9,
   "id": "17",
   "metadata": {},
   "outputs": [],
   "source": [
    "H = Operator(\n",
    "    magnetic_field_z(coef=B_coef) + isotropic_interaction(J_strong_mat + J_weak_mat),\n",
    "    domain=v,\n",
    "    strict=False\n",
    ")"
   ]
  },
  {
   "cell_type": "markdown",
   "id": "18",
   "metadata": {},
   "source": [
    "## Spectrum & Eigenvectors\n",
    "\n",
    "Having constructed the Hamiltonian, we can now use it to, e.g., compute\n",
    "the energy levels of the system. Since Quantum Solver operators are\n",
    "compatible with SciPy, we can directly use the\n",
    "[eigsh](https://docs.scipy.org/doc/scipy/reference/generated/scipy.sparse.linalg.eigsh.html#scipy.sparse.linalg.eigsh) function from SciPy to compute the\n",
    "eigenvalues."
   ]
  },
  {
   "cell_type": "code",
   "execution_count": 10,
   "id": "19",
   "metadata": {},
   "outputs": [],
   "source": [
    "eigvals, eigvecs = eigsh(H, k=20, which='SA')"
   ]
  },
  {
   "cell_type": "markdown",
   "id": "20",
   "metadata": {},
   "source": [
    "The eigenvalues are the energy levels of the system and can be plotted\n",
    "as follows, while the resulting figure is shown below."
   ]
  },
  {
   "cell_type": "code",
   "execution_count": 11,
   "id": "21",
   "metadata": {},
   "outputs": [
    {
     "data": {
      "text/plain": [
       "[<matplotlib.lines.Line2D at 0x7fed28990a50>]"
      ]
     },
     "execution_count": 11,
     "metadata": {},
     "output_type": "execute_result"
    },
    {
     "data": {
      "image/png": "[encoded data removed]",
      "text/plain": [
       "<Figure size 640x480 with 1 Axes>"
      ]
     },
     "metadata": {},
     "output_type": "display_data"
    }
   ],
   "source": [
    "plt.figure()\n",
    "plt.title('Energy Levels')\n",
    "plt.xlabel('Energy')\n",
    "plt.ylabel('Level Number')\n",
    "plt.plot(eigvals, 'x')"
   ]
  },
  {
   "cell_type": "markdown",
   "id": "22",
   "metadata": {},
   "source": [
    "Another interesting quantity to look at is the expectation value of the\n",
    "spin polarization of the groundstate, i.e.,\n",
    "$\\langle S^z_j \\rangle = \\langle \\psi | S^z_j | \\psi \\rangle$\n",
    "for $j = 0, \\dots, n_1 + n_2 - 1$.\n",
    "The operator $S^z_j$ is provided by the\n",
    "[spin_z](https://docs.cloud.quantumsimulations.de/hqs-quantum-solvers/reference/generated/hqs_quantum_solver.spins.html#hqs_quantum_solver.spins.spin_z) function,\n",
    "and the application of the operator by the\n",
    "[dot](https://docs.cloud.quantumsimulations.de/hqs-quantum-solvers/reference/generated/hqs_quantum_solver.spins.html#hqs_quantum_solver.spins.Operator.dot) method,\n",
    "so the implementation is straight forward."
   ]
  },
  {
   "cell_type": "code",
   "execution_count": 12,
   "id": "23",
   "metadata": {},
   "outputs": [],
   "source": [
    "observables = [Operator(spin_z(site=j), domain=v) for j in range(v.sites)]\n",
    "\n",
    "def spin_z_expectation(psi):\n",
    "    return [np.vecdot(psi, o.dot(psi)) for o in observables]"
   ]
  },
  {
   "cell_type": "markdown",
   "id": "24",
   "metadata": {},
   "source": [
    "The result can be plotted using the following code, and the resulting\n",
    "figure is shown below."
   ]
  },
  {
   "cell_type": "code",
   "execution_count": 13,
   "id": "25",
   "metadata": {},
   "outputs": [
    {
     "data": {
      "image/png": "[encoded data removed]",
      "text/plain": [
       "<Figure size 640x480 with 1 Axes>"
      ]
     },
     "metadata": {},
     "output_type": "display_data"
    }
   ],
   "source": [
    "groundstate = eigvecs[:,0]\n",
    "\n",
    "plt.figure()\n",
    "plt.title('Groundstate')\n",
    "plt.xlabel('Sites')\n",
    "plt.ylabel(r'$\\langle S^z \\rangle$')\n",
    "plt.ylim(-1, 1)\n",
    "plt.plot(spin_z_expectation(groundstate), 'x')\n",
    "\n",
    "plt.show()"
   ]
  },
  {
   "cell_type": "markdown",
   "id": "26",
   "metadata": {},
   "source": [
    "## Complete Code\n",
    "\n",
    "```python\n",
    "# Title    : HQS Quantum Solver Combining Vector Spaces\n",
    "# Filename : combining-spaces.py\n",
    "\n",
    "# ===== Imports =====\n",
    "\n",
    "import numpy as np\n",
    "from scipy.sparse.linalg import eigsh\n",
    "import matplotlib.pyplot as plt\n",
    "\n",
    "from hqs_quantum_solver.spins import (\n",
    "    VectorSpace, Operator, magnetic_field_z, isotropic_interaction, spin_z)\n",
    "\n",
    "# ===== Parameters =====\n",
    "\n",
    "sites_part1 = 12  # Number of sites of the first part\n",
    "sites_part2 = 50  # Number of sites of the second part\n",
    "\n",
    "B = -1.5      # The magnetic field strength\n",
    "J_strong = 1  # The strength of the strong interaction\n",
    "J_weak = 0.2  # The strength of the weak interaction\n",
    "\n",
    "# ===== Vector Spaces =====\n",
    "\n",
    "v1 = VectorSpace(sites=sites_part1, total_spin_z=\"all\")\n",
    "\n",
    "v2 = (VectorSpace(sites=sites_part2, total_spin_z=-sites_part2)\n",
    "      | VectorSpace(sites=sites_part2, total_spin_z=-sites_part2 + 2))\n",
    "\n",
    "v = v1 * v2\n",
    "\n",
    "# ===== Building the Hamiltonian =====\n",
    "\n",
    "B_coef = np.full(v.sites, B)\n",
    "\n",
    "d1 = np.where(np.arange(v.sites - 1) < v1.sites - 1, 1, 0)\n",
    "J_strong_mat = J_strong * np.diag(d1, 1)\n",
    "\n",
    "rng = np.random.default_rng(314159)\n",
    "\n",
    "J_weak_mat = J_weak * np.triu(rng.uniform(0, 1, (v.sites, v.sites)), 1)\n",
    "\n",
    "H = Operator(\n",
    "    magnetic_field_z(coef=B_coef) + isotropic_interaction(J_strong_mat + J_weak_mat),\n",
    "    domain=v,\n",
    "    strict=False\n",
    ")\n",
    "\n",
    "# ===== Plotting the Energy Levels =====\n",
    "\n",
    "eigvals, eigvecs = eigsh(H, k=20, which='SA')\n",
    "\n",
    "plt.figure()\n",
    "plt.title('Energy Levels')\n",
    "plt.xlabel('Energy')\n",
    "plt.ylabel('Level Number')\n",
    "plt.plot(eigvals, 'x')\n",
    "\n",
    "# ===== Plotting the Spin Polarization =====\n",
    "\n",
    "observables = [Operator(spin_z(site=j), domain=v) for j in range(v.sites)]\n",
    "\n",
    "def spin_z_expectation(psi):\n",
    "    return [np.vecdot(psi, o.dot(psi)) for o in observables]\n",
    "\n",
    "groundstate = eigvecs[:,0]\n",
    "\n",
    "plt.figure()\n",
    "plt.title('Groundstate')\n",
    "plt.xlabel('Sites')\n",
    "plt.ylabel(r'$\\langle S^z \\rangle$')\n",
    "plt.ylim(-1, 1)\n",
    "plt.plot(spin_z_expectation(groundstate), 'x')\n",
    "\n",
    "plt.show()\n",
    "\n",
    "```"
   ]
  }
 ],
 "metadata": {
  "jupytext": {
   "default_lexer": "python",
   "notebook_metadata_filter": "-all"
  },
  "kernelspec": {
   "display_name": "Python 3 (ipykernel)",
   "language": "python",
   "name": "python3"
  },
  "language_info": {
   "codemirror_mode": {
    "name": "ipython",
    "version": 3
   },
   "file_extension": ".py",
   "mimetype": "text/x-python",
   "name": "python",
   "nbconvert_exporter": "python",
   "pygments_lexer": "ipython3",
   "version": "3.13.3"
  }
 },
 "nbformat": 4,
 "nbformat_minor": 5
}
